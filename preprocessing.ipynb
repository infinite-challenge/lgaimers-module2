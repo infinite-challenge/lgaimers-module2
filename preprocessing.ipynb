{
 "cells": [
  {
   "cell_type": "code",
   "execution_count": 4,
   "metadata": {},
   "outputs": [
    {
     "name": "stderr",
     "output_type": "stream",
     "text": [
      "/var/folders/81/_1yshp9s2sxb1nghxqpzk7b40000gn/T/ipykernel_6185/3377578104.py:1: DeprecationWarning: \n",
      "Pyarrow will become a required dependency of pandas in the next major release of pandas (pandas 3.0),\n",
      "(to allow more performant data types, such as the Arrow string type, and better interoperability with other libraries)\n",
      "but was not found to be installed on your system.\n",
      "If this would cause problems for you,\n",
      "please provide us feedback at https://github.com/pandas-dev/pandas/issues/54466\n",
      "        \n",
      "  import pandas as pd\n"
     ]
    }
   ],
   "source": [
    "import pandas as pd\n",
    "import numpy as np\n",
    "from sklearn.metrics import (\n",
    "    accuracy_score,\n",
    "    confusion_matrix,\n",
    "    f1_score,\n",
    "    precision_score,\n",
    "    recall_score,\n",
    ")\n",
    "from sklearn.model_selection import train_test_split\n",
    "from sklearn.tree import DecisionTreeClassifier\n",
    "\n",
    "import matplotlib.pyplot as plt\n",
    "import seaborn as sns\n",
    "import warnings\n",
    "warnings.filterwarnings('ignore')"
   ]
  },
  {
   "cell_type": "code",
   "execution_count": 9,
   "metadata": {},
   "outputs": [
    {
     "data": {
      "text/html": [
       "<div>\n",
       "<style scoped>\n",
       "    .dataframe tbody tr th:only-of-type {\n",
       "        vertical-align: middle;\n",
       "    }\n",
       "\n",
       "    .dataframe tbody tr th {\n",
       "        vertical-align: top;\n",
       "    }\n",
       "\n",
       "    .dataframe thead th {\n",
       "        text-align: right;\n",
       "    }\n",
       "</style>\n",
       "<table border=\"1\" class=\"dataframe\">\n",
       "  <thead>\n",
       "    <tr style=\"text-align: right;\">\n",
       "      <th></th>\n",
       "      <th>bant_submit</th>\n",
       "      <th>customer_country</th>\n",
       "      <th>business_unit</th>\n",
       "      <th>com_reg_ver_win_rate</th>\n",
       "      <th>customer_idx</th>\n",
       "      <th>customer_type</th>\n",
       "      <th>enterprise</th>\n",
       "      <th>historical_existing_cnt</th>\n",
       "      <th>id_strategic_ver</th>\n",
       "      <th>it_strategic_ver</th>\n",
       "      <th>...</th>\n",
       "      <th>response_corporate</th>\n",
       "      <th>expected_timeline</th>\n",
       "      <th>ver_cus</th>\n",
       "      <th>ver_pro</th>\n",
       "      <th>ver_win_rate_x</th>\n",
       "      <th>ver_win_ratio_per_bu</th>\n",
       "      <th>business_area</th>\n",
       "      <th>business_subarea</th>\n",
       "      <th>lead_owner</th>\n",
       "      <th>is_converted</th>\n",
       "    </tr>\n",
       "  </thead>\n",
       "  <tbody>\n",
       "    <tr>\n",
       "      <th>11544</th>\n",
       "      <td>0.5</td>\n",
       "      <td>2100 Alaskan Way  /Seattle/</td>\n",
       "      <td>ID</td>\n",
       "      <td>NaN</td>\n",
       "      <td>16101</td>\n",
       "      <td>NaN</td>\n",
       "      <td>SMB</td>\n",
       "      <td>NaN</td>\n",
       "      <td>NaN</td>\n",
       "      <td>NaN</td>\n",
       "      <td>...</td>\n",
       "      <td>LGEUS</td>\n",
       "      <td>less than 3 months</td>\n",
       "      <td>0</td>\n",
       "      <td>0</td>\n",
       "      <td>NaN</td>\n",
       "      <td>NaN</td>\n",
       "      <td>NaN</td>\n",
       "      <td>NaN</td>\n",
       "      <td>194</td>\n",
       "      <td>False</td>\n",
       "    </tr>\n",
       "    <tr>\n",
       "      <th>5557</th>\n",
       "      <td>1.0</td>\n",
       "      <td>/DUBAI/U.A.E</td>\n",
       "      <td>ID</td>\n",
       "      <td>NaN</td>\n",
       "      <td>40824</td>\n",
       "      <td>NaN</td>\n",
       "      <td>SMB</td>\n",
       "      <td>NaN</td>\n",
       "      <td>NaN</td>\n",
       "      <td>NaN</td>\n",
       "      <td>...</td>\n",
       "      <td>LGEGF</td>\n",
       "      <td>less than 3 months</td>\n",
       "      <td>0</td>\n",
       "      <td>0</td>\n",
       "      <td>NaN</td>\n",
       "      <td>NaN</td>\n",
       "      <td>NaN</td>\n",
       "      <td>NaN</td>\n",
       "      <td>229</td>\n",
       "      <td>False</td>\n",
       "    </tr>\n",
       "    <tr>\n",
       "      <th>697</th>\n",
       "      <td>1.0</td>\n",
       "      <td>//ARGENTINA</td>\n",
       "      <td>ID</td>\n",
       "      <td>0.074949</td>\n",
       "      <td>33673</td>\n",
       "      <td>NaN</td>\n",
       "      <td>SMB</td>\n",
       "      <td>57.0</td>\n",
       "      <td>1.0</td>\n",
       "      <td>NaN</td>\n",
       "      <td>...</td>\n",
       "      <td>LGEAR</td>\n",
       "      <td>3 months ~ 6 months</td>\n",
       "      <td>0</td>\n",
       "      <td>0</td>\n",
       "      <td>0.003079</td>\n",
       "      <td>0.064566</td>\n",
       "      <td>corporate / office</td>\n",
       "      <td>NaN</td>\n",
       "      <td>237</td>\n",
       "      <td>False</td>\n",
       "    </tr>\n",
       "    <tr>\n",
       "      <th>27050</th>\n",
       "      <td>1.0</td>\n",
       "      <td>/Maldives</td>\n",
       "      <td>ID</td>\n",
       "      <td>NaN</td>\n",
       "      <td>39687</td>\n",
       "      <td>NaN</td>\n",
       "      <td>SMB</td>\n",
       "      <td>NaN</td>\n",
       "      <td>1.0</td>\n",
       "      <td>NaN</td>\n",
       "      <td>...</td>\n",
       "      <td>LGESL</td>\n",
       "      <td>less than 3 months</td>\n",
       "      <td>0</td>\n",
       "      <td>1</td>\n",
       "      <td>0.000717</td>\n",
       "      <td>0.071345</td>\n",
       "      <td>hotel &amp; accommodation</td>\n",
       "      <td>NaN</td>\n",
       "      <td>926</td>\n",
       "      <td>False</td>\n",
       "    </tr>\n",
       "    <tr>\n",
       "      <th>53541</th>\n",
       "      <td>1.0</td>\n",
       "      <td>/Pasto/Colombia</td>\n",
       "      <td>ID</td>\n",
       "      <td>0.032787</td>\n",
       "      <td>43789</td>\n",
       "      <td>End-Customer</td>\n",
       "      <td>SMB</td>\n",
       "      <td>NaN</td>\n",
       "      <td>NaN</td>\n",
       "      <td>NaN</td>\n",
       "      <td>...</td>\n",
       "      <td>LGECB</td>\n",
       "      <td>less than 3 months</td>\n",
       "      <td>1</td>\n",
       "      <td>0</td>\n",
       "      <td>0.000572</td>\n",
       "      <td>0.048630</td>\n",
       "      <td>education</td>\n",
       "      <td>Higher Education (College &amp; University)</td>\n",
       "      <td>233</td>\n",
       "      <td>False</td>\n",
       "    </tr>\n",
       "  </tbody>\n",
       "</table>\n",
       "<p>5 rows × 29 columns</p>\n",
       "</div>"
      ],
      "text/plain": [
       "       bant_submit             customer_country business_unit  \\\n",
       "11544          0.5  2100 Alaskan Way  /Seattle/            ID   \n",
       "5557           1.0                 /DUBAI/U.A.E            ID   \n",
       "697            1.0                  //ARGENTINA            ID   \n",
       "27050          1.0                    /Maldives            ID   \n",
       "53541          1.0              /Pasto/Colombia            ID   \n",
       "\n",
       "       com_reg_ver_win_rate  customer_idx customer_type enterprise  \\\n",
       "11544                   NaN         16101           NaN        SMB   \n",
       "5557                    NaN         40824           NaN        SMB   \n",
       "697                0.074949         33673           NaN        SMB   \n",
       "27050                   NaN         39687           NaN        SMB   \n",
       "53541              0.032787         43789  End-Customer        SMB   \n",
       "\n",
       "       historical_existing_cnt  id_strategic_ver  it_strategic_ver  ...  \\\n",
       "11544                      NaN               NaN               NaN  ...   \n",
       "5557                       NaN               NaN               NaN  ...   \n",
       "697                       57.0               1.0               NaN  ...   \n",
       "27050                      NaN               1.0               NaN  ...   \n",
       "53541                      NaN               NaN               NaN  ...   \n",
       "\n",
       "       response_corporate    expected_timeline  ver_cus ver_pro  \\\n",
       "11544               LGEUS   less than 3 months        0       0   \n",
       "5557                LGEGF   less than 3 months        0       0   \n",
       "697                 LGEAR  3 months ~ 6 months        0       0   \n",
       "27050               LGESL   less than 3 months        0       1   \n",
       "53541               LGECB   less than 3 months        1       0   \n",
       "\n",
       "      ver_win_rate_x ver_win_ratio_per_bu          business_area  \\\n",
       "11544            NaN                  NaN                    NaN   \n",
       "5557             NaN                  NaN                    NaN   \n",
       "697         0.003079             0.064566     corporate / office   \n",
       "27050       0.000717             0.071345  hotel & accommodation   \n",
       "53541       0.000572             0.048630              education   \n",
       "\n",
       "                              business_subarea lead_owner is_converted  \n",
       "11544                                      NaN        194        False  \n",
       "5557                                       NaN        229        False  \n",
       "697                                        NaN        237        False  \n",
       "27050                                      NaN        926        False  \n",
       "53541  Higher Education (College & University)        233        False  \n",
       "\n",
       "[5 rows x 29 columns]"
      ]
     },
     "metadata": {},
     "output_type": "display_data"
    }
   ],
   "source": [
    "df_train = pd.read_csv(\"train.csv\") # 학습용 데이터\n",
    "df_test = pd.read_csv(\"submission.csv\") # 테스트 데이터(제출파일의 데이터)\n",
    "\n",
    "display(df_train.sample(5)) # 학습용 데이터 살펴보기"
   ]
  },
  {
   "cell_type": "code",
   "execution_count": 5,
   "metadata": {},
   "outputs": [],
   "source": [
    "\"\"\"\n",
    "*/*/country -> country\n",
    "\"\"\"\n",
    "\n",
    "def column_short(df : pd.DataFrame, column : str):\n",
    "    short_column = column+'_short'\n",
    "    df[short_column] = \"others\"\n",
    "    df[short_column][df[column].notna()] = df.copy()[df[column].notna()][column].apply(lambda x : x.split('/')[-1].split(',')[-1].strip().lower())\n",
    "    df[short_column].replace(\"\", \"others\", inplace=True)\n",
    "    # write aaa@aa.com -> others regex : r'@.*'\n",
    "    df[short_column].replace(to_replace=r'^[a-zA-Z0-9][a-zA-Z0-9._]+[@][a-zA-Z][A-Za-z.]+[.]\\w{2,}', value=\"others\", inplace=True, regex=True)\n",
    "\n",
    "\n",
    "def column_replace(df : pd.DataFrame, column : str, replace_dict : dict):\n",
    "    df[column].replace(r\"*[]\", inplace=True, regex=True)"
   ]
  },
  {
   "cell_type": "code",
   "execution_count": null,
   "metadata": {},
   "outputs": [],
   "source": [
    "def target_ratio(column : str, nums : int):\n",
    "    targets_dict = df_train[df_train[column] == nums]['is_converted'].value_counts(ascending=False).to_dict()\n",
    "    if len(targets_dict) == 1:\n",
    "        if True in targets_dict.keys():\n",
    "            F_target = 0\n",
    "            T_target = targets_dict[True]\n",
    "        elif False in targets_dict.keys():\n",
    "            T_target = 0\n",
    "            F_target = targets_dict[False]\n",
    "    else:\n",
    "        F_target = targets_dict[False]\n",
    "        T_target = targets_dict[True]\n",
    "    if F_target == 0:\n",
    "        print(\"{0} value of {1}\".format(nums, column)+\"'s target ratio : {0} / {1}, only True\".format(T_target, F_target), \"\\n\")\n",
    "    else:\n",
    "        print(\"{0} value of {1}\".format(nums, column)+\"'s target ratio : {0} / {1} = {2:.2f} %\".format(T_target, F_target, T_target / F_target * 100), \"\\n\")"
   ]
  },
  {
   "cell_type": "markdown",
   "metadata": {},
   "source": [
    "### Column : bant_submit"
   ]
  },
  {
   "cell_type": "code",
   "execution_count": null,
   "metadata": {},
   "outputs": [],
   "source": [
    "\"\"\"\n",
    "0, 0.25, 0.5, 0.75, 1 의 class가 존재\n",
    "\n",
    "class 별로 target 비율에 대해서 고려하기\n",
    "\n",
    "1 : 9.23%\n",
    "0.75 : 10.57%\n",
    "0.5 : 5.76%\n",
    "0.25 : 10.98%\n",
    "0 : 19.03%\n",
    "\n",
    "0일때, 0.5일때 꽤 유의미한 차이가 있고, 1, 0.75, 0.25는 비슷한 비율을 가지고 있다.\n",
    "\"\"\"\n",
    "columns = 'bant_submit'\n",
    "for nums in df_train[columns].unique():\n",
    "    target_ratio(columns, nums)"
   ]
  },
  {
   "cell_type": "markdown",
   "metadata": {},
   "source": [
    "### Column : customer_country"
   ]
  },
  {
   "cell_type": "code",
   "execution_count": null,
   "metadata": {},
   "outputs": [],
   "source": []
  },
  {
   "cell_type": "code",
   "execution_count": null,
   "metadata": {},
   "outputs": [],
   "source": [
    "def show_customer_country_from_short(country_short : str):\n",
    "    print(df_train[df_train['customer_country_short'] == country_short].customer_country.value_counts())"
   ]
  },
  {
   "cell_type": "code",
   "execution_count": null,
   "metadata": {},
   "outputs": [],
   "source": []
  },
  {
   "cell_type": "code",
   "execution_count": null,
   "metadata": {},
   "outputs": [],
   "source": []
  },
  {
   "cell_type": "markdown",
   "metadata": {},
   "source": [
    "### Column : business_unit"
   ]
  },
  {
   "cell_type": "code",
   "execution_count": null,
   "metadata": {},
   "outputs": [],
   "source": [
    "columns = 'business_unit'\n",
    "for nums in df_train[columns].unique():\n",
    "    target_ratio(columns, nums)"
   ]
  },
  {
   "cell_type": "markdown",
   "metadata": {},
   "source": [
    "### Column : com_reg_ver_win_rate"
   ]
  },
  {
   "cell_type": "code",
   "execution_count": null,
   "metadata": {},
   "outputs": [],
   "source": [
    "columns = 'com_reg_ver_win_rate'\n",
    "temp_dict = df_train[columns].value_counts().to_dict()\n",
    "temp_dict = {k: v for k, v in sorted(temp_dict.items(), key=lambda x : x[0], reverse=True)}\n",
    "\n",
    "for k, v in temp_dict.items():\n",
    "    target_ratio(columns, k)"
   ]
  },
  {
   "cell_type": "markdown",
   "metadata": {},
   "source": [
    "### Column : customer_idx"
   ]
  },
  {
   "cell_type": "code",
   "execution_count": null,
   "metadata": {},
   "outputs": [],
   "source": [
    "columns = 'customer_idx'\n",
    "df_train[columns].value_counts()"
   ]
  },
  {
   "cell_type": "code",
   "execution_count": null,
   "metadata": {},
   "outputs": [],
   "source": [
    "columns = 'customer_idx'\n",
    "temp_dict = df_train[columns].value_counts().to_dict()\n",
    "temp_dict = {k: v for k, v in sorted(temp_dict.items(), key=lambda x:-x[1])}\n",
    "\n",
    "for_plot = []\n",
    "def temp_target_ratio(column : str, nums : int, value : int):\n",
    "    targets_dict = df_train[df_train[column] == nums]['is_converted'].value_counts(ascending=False).to_dict()\n",
    "    if len(targets_dict) == 1:\n",
    "        if True in targets_dict.keys():\n",
    "            # F_target = 0\n",
    "            T_target = targets_dict[True]\n",
    "        elif False in targets_dict.keys():\n",
    "            T_target = 0\n",
    "            # F_target = targets_dict[False]\n",
    "    else:\n",
    "        T_target = targets_dict[True]\n",
    "    # print(\"{0} value of {1}\".format(nums, column)+\"'s target ratio : {0} / {1} = {2:.2f} %\".format(T_target, value, T_target / value * 100), \"\\n\")\n",
    "    for_plot.append(round(T_target / value * 100, 2))\n",
    "\n",
    "for k, v in temp_dict.items():\n",
    "    temp_target_ratio(columns, k, v)"
   ]
  },
  {
   "cell_type": "code",
   "execution_count": null,
   "metadata": {},
   "outputs": [],
   "source": [
    "sns.kdeplot(for_plot)\n",
    "plt.show()\n",
    "\n",
    "from collections import Counter\n",
    "print(len(for_plot))\n",
    "print(Counter(for_plot))\n"
   ]
  },
  {
   "cell_type": "markdown",
   "metadata": {},
   "source": [
    "### Column : customer_type"
   ]
  },
  {
   "cell_type": "markdown",
   "metadata": {},
   "source": []
  },
  {
   "cell_type": "markdown",
   "metadata": {},
   "source": [
    "### Column : Enterpise"
   ]
  },
  {
   "cell_type": "markdown",
   "metadata": {},
   "source": []
  },
  {
   "cell_type": "markdown",
   "metadata": {},
   "source": [
    "### Column : historical_existing_cnt"
   ]
  },
  {
   "cell_type": "markdown",
   "metadata": {},
   "source": []
  },
  {
   "cell_type": "markdown",
   "metadata": {},
   "source": [
    "### Column : id_strategic_ver"
   ]
  },
  {
   "cell_type": "markdown",
   "metadata": {},
   "source": []
  },
  {
   "cell_type": "markdown",
   "metadata": {},
   "source": [
    "### Column : it_strategic_ver"
   ]
  },
  {
   "cell_type": "markdown",
   "metadata": {},
   "source": []
  },
  {
   "cell_type": "markdown",
   "metadata": {},
   "source": [
    "### Column : idit_strategic_ver"
   ]
  },
  {
   "cell_type": "markdown",
   "metadata": {},
   "source": []
  },
  {
   "cell_type": "markdown",
   "metadata": {},
   "source": [
    "### Column : customer_job"
   ]
  },
  {
   "cell_type": "markdown",
   "metadata": {},
   "source": []
  },
  {
   "cell_type": "markdown",
   "metadata": {},
   "source": [
    "### Column : lead_desc_length"
   ]
  },
  {
   "cell_type": "markdown",
   "metadata": {},
   "source": []
  },
  {
   "cell_type": "markdown",
   "metadata": {},
   "source": [
    "### Column : inquiry_type"
   ]
  },
  {
   "cell_type": "markdown",
   "metadata": {},
   "source": []
  },
  {
   "cell_type": "markdown",
   "metadata": {},
   "source": [
    "### Column : product_category"
   ]
  },
  {
   "cell_type": "markdown",
   "metadata": {},
   "source": []
  },
  {
   "cell_type": "markdown",
   "metadata": {},
   "source": [
    "### Column : product_subcategory"
   ]
  },
  {
   "cell_type": "markdown",
   "metadata": {},
   "source": []
  },
  {
   "cell_type": "markdown",
   "metadata": {},
   "source": [
    "### Column : product_modelname"
   ]
  },
  {
   "cell_type": "markdown",
   "metadata": {},
   "source": []
  },
  {
   "cell_type": "markdown",
   "metadata": {},
   "source": [
    "### Column : customer_country.1"
   ]
  },
  {
   "cell_type": "markdown",
   "metadata": {},
   "source": []
  },
  {
   "cell_type": "markdown",
   "metadata": {},
   "source": [
    "### Column : customer_position"
   ]
  },
  {
   "cell_type": "markdown",
   "metadata": {},
   "source": []
  },
  {
   "cell_type": "markdown",
   "metadata": {},
   "source": [
    "### Column : reponse_corporate"
   ]
  },
  {
   "cell_type": "markdown",
   "metadata": {},
   "source": []
  },
  {
   "cell_type": "markdown",
   "metadata": {},
   "source": [
    "### Column : expected_timeline"
   ]
  },
  {
   "cell_type": "markdown",
   "metadata": {},
   "source": []
  },
  {
   "cell_type": "markdown",
   "metadata": {},
   "source": [
    "### Column : vers_cus"
   ]
  },
  {
   "cell_type": "markdown",
   "metadata": {},
   "source": []
  },
  {
   "cell_type": "markdown",
   "metadata": {},
   "source": [
    "### Column : vers_pro"
   ]
  },
  {
   "cell_type": "markdown",
   "metadata": {},
   "source": []
  },
  {
   "cell_type": "markdown",
   "metadata": {},
   "source": [
    "### Column : ver_win_rate_x"
   ]
  },
  {
   "cell_type": "markdown",
   "metadata": {},
   "source": []
  },
  {
   "cell_type": "markdown",
   "metadata": {},
   "source": [
    "### Column : ver_win_ratio_per_bu"
   ]
  },
  {
   "cell_type": "markdown",
   "metadata": {},
   "source": []
  },
  {
   "cell_type": "markdown",
   "metadata": {},
   "source": [
    "### Column : business_area"
   ]
  },
  {
   "cell_type": "markdown",
   "metadata": {},
   "source": []
  },
  {
   "cell_type": "markdown",
   "metadata": {},
   "source": [
    "### Column : business_subarea"
   ]
  },
  {
   "cell_type": "markdown",
   "metadata": {},
   "source": []
  },
  {
   "cell_type": "markdown",
   "metadata": {},
   "source": [
    "### Column : lead_owner"
   ]
  },
  {
   "cell_type": "markdown",
   "metadata": {},
   "source": []
  },
  {
   "cell_type": "markdown",
   "metadata": {},
   "source": [
    "### Column : is_converted"
   ]
  },
  {
   "cell_type": "markdown",
   "metadata": {},
   "source": []
  }
 ],
 "metadata": {
  "kernelspec": {
   "display_name": "Python 3",
   "language": "python",
   "name": "python3"
  },
  "language_info": {
   "codemirror_mode": {
    "name": "ipython",
    "version": 3
   },
   "file_extension": ".py",
   "mimetype": "text/x-python",
   "name": "python",
   "nbconvert_exporter": "python",
   "pygments_lexer": "ipython3",
   "version": "3.10.10"
  }
 },
 "nbformat": 4,
 "nbformat_minor": 2
}
