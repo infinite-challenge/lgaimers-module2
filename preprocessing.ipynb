{
 "cells": [
  {
   "cell_type": "code",
   "execution_count": 2,
   "metadata": {},
   "outputs": [
    {
     "name": "stderr",
     "output_type": "stream",
     "text": [
      "/var/folders/81/_1yshp9s2sxb1nghxqpzk7b40000gn/T/ipykernel_1852/3377578104.py:1: DeprecationWarning: \n",
      "Pyarrow will become a required dependency of pandas in the next major release of pandas (pandas 3.0),\n",
      "(to allow more performant data types, such as the Arrow string type, and better interoperability with other libraries)\n",
      "but was not found to be installed on your system.\n",
      "If this would cause problems for you,\n",
      "please provide us feedback at https://github.com/pandas-dev/pandas/issues/54466\n",
      "        \n",
      "  import pandas as pd\n"
     ]
    }
   ],
   "source": [
    "import pandas as pd\n",
    "import numpy as np\n",
    "from sklearn.metrics import (\n",
    "    accuracy_score,\n",
    "    confusion_matrix,\n",
    "    f1_score,\n",
    "    precision_score,\n",
    "    recall_score,\n",
    ")\n",
    "from sklearn.model_selection import train_test_split\n",
    "from sklearn.tree import DecisionTreeClassifier\n",
    "\n",
    "import matplotlib.pyplot as plt\n",
    "import seaborn as sns\n",
    "import warnings\n",
    "warnings.filterwarnings('ignore')\n",
    "\n",
    "from collections import Counter"
   ]
  },
  {
   "cell_type": "code",
   "execution_count": 3,
   "metadata": {},
   "outputs": [
    {
     "data": {
      "text/html": [
       "<div>\n",
       "<style scoped>\n",
       "    .dataframe tbody tr th:only-of-type {\n",
       "        vertical-align: middle;\n",
       "    }\n",
       "\n",
       "    .dataframe tbody tr th {\n",
       "        vertical-align: top;\n",
       "    }\n",
       "\n",
       "    .dataframe thead th {\n",
       "        text-align: right;\n",
       "    }\n",
       "</style>\n",
       "<table border=\"1\" class=\"dataframe\">\n",
       "  <thead>\n",
       "    <tr style=\"text-align: right;\">\n",
       "      <th></th>\n",
       "      <th>bant_submit</th>\n",
       "      <th>customer_country</th>\n",
       "      <th>business_unit</th>\n",
       "      <th>com_reg_ver_win_rate</th>\n",
       "      <th>customer_idx</th>\n",
       "      <th>customer_type</th>\n",
       "      <th>enterprise</th>\n",
       "      <th>historical_existing_cnt</th>\n",
       "      <th>id_strategic_ver</th>\n",
       "      <th>it_strategic_ver</th>\n",
       "      <th>...</th>\n",
       "      <th>response_corporate</th>\n",
       "      <th>expected_timeline</th>\n",
       "      <th>ver_cus</th>\n",
       "      <th>ver_pro</th>\n",
       "      <th>ver_win_rate_x</th>\n",
       "      <th>ver_win_ratio_per_bu</th>\n",
       "      <th>business_area</th>\n",
       "      <th>business_subarea</th>\n",
       "      <th>lead_owner</th>\n",
       "      <th>is_converted</th>\n",
       "    </tr>\n",
       "  </thead>\n",
       "  <tbody>\n",
       "    <tr>\n",
       "      <th>18833</th>\n",
       "      <td>1.00</td>\n",
       "      <td>/uberlandia minas gerais/Brazil</td>\n",
       "      <td>AS</td>\n",
       "      <td>NaN</td>\n",
       "      <td>22284</td>\n",
       "      <td>Specifier/ Influencer</td>\n",
       "      <td>Enterprise</td>\n",
       "      <td>NaN</td>\n",
       "      <td>NaN</td>\n",
       "      <td>NaN</td>\n",
       "      <td>...</td>\n",
       "      <td>LGESP</td>\n",
       "      <td>3 months ~ 6 months</td>\n",
       "      <td>0</td>\n",
       "      <td>0</td>\n",
       "      <td>NaN</td>\n",
       "      <td>NaN</td>\n",
       "      <td>NaN</td>\n",
       "      <td>NaN</td>\n",
       "      <td>97</td>\n",
       "      <td>False</td>\n",
       "    </tr>\n",
       "    <tr>\n",
       "      <th>30531</th>\n",
       "      <td>1.00</td>\n",
       "      <td>//</td>\n",
       "      <td>ID</td>\n",
       "      <td>0.074949</td>\n",
       "      <td>12418</td>\n",
       "      <td>NaN</td>\n",
       "      <td>Enterprise</td>\n",
       "      <td>NaN</td>\n",
       "      <td>1.0</td>\n",
       "      <td>NaN</td>\n",
       "      <td>...</td>\n",
       "      <td>LGECB</td>\n",
       "      <td>3 months ~ 6 months</td>\n",
       "      <td>0</td>\n",
       "      <td>0</td>\n",
       "      <td>0.003079</td>\n",
       "      <td>0.064566</td>\n",
       "      <td>corporate / office</td>\n",
       "      <td>NaN</td>\n",
       "      <td>212</td>\n",
       "      <td>False</td>\n",
       "    </tr>\n",
       "    <tr>\n",
       "      <th>59206</th>\n",
       "      <td>1.00</td>\n",
       "      <td>/DF/Brasília/Brazil</td>\n",
       "      <td>AS</td>\n",
       "      <td>0.040000</td>\n",
       "      <td>10232</td>\n",
       "      <td>NaN</td>\n",
       "      <td>Enterprise</td>\n",
       "      <td>NaN</td>\n",
       "      <td>NaN</td>\n",
       "      <td>NaN</td>\n",
       "      <td>...</td>\n",
       "      <td>LGESP</td>\n",
       "      <td>6 months ~ 9 months</td>\n",
       "      <td>0</td>\n",
       "      <td>0</td>\n",
       "      <td>0.000026</td>\n",
       "      <td>0.028777</td>\n",
       "      <td>public facility</td>\n",
       "      <td>NaN</td>\n",
       "      <td>23</td>\n",
       "      <td>False</td>\n",
       "    </tr>\n",
       "    <tr>\n",
       "      <th>56677</th>\n",
       "      <td>0.75</td>\n",
       "      <td>/santiago/Chile</td>\n",
       "      <td>ID</td>\n",
       "      <td>0.073248</td>\n",
       "      <td>11760</td>\n",
       "      <td>NaN</td>\n",
       "      <td>SMB</td>\n",
       "      <td>NaN</td>\n",
       "      <td>NaN</td>\n",
       "      <td>NaN</td>\n",
       "      <td>...</td>\n",
       "      <td>LGECL</td>\n",
       "      <td>less than 3 months</td>\n",
       "      <td>0</td>\n",
       "      <td>1</td>\n",
       "      <td>0.001183</td>\n",
       "      <td>0.049840</td>\n",
       "      <td>retail</td>\n",
       "      <td>NaN</td>\n",
       "      <td>283</td>\n",
       "      <td>False</td>\n",
       "    </tr>\n",
       "    <tr>\n",
       "      <th>37222</th>\n",
       "      <td>0.50</td>\n",
       "      <td>//Philippines</td>\n",
       "      <td>AS</td>\n",
       "      <td>NaN</td>\n",
       "      <td>33776</td>\n",
       "      <td>NaN</td>\n",
       "      <td>Enterprise</td>\n",
       "      <td>NaN</td>\n",
       "      <td>NaN</td>\n",
       "      <td>NaN</td>\n",
       "      <td>...</td>\n",
       "      <td>LGEPH</td>\n",
       "      <td>NaN</td>\n",
       "      <td>0</td>\n",
       "      <td>0</td>\n",
       "      <td>NaN</td>\n",
       "      <td>NaN</td>\n",
       "      <td>NaN</td>\n",
       "      <td>NaN</td>\n",
       "      <td>0</td>\n",
       "      <td>False</td>\n",
       "    </tr>\n",
       "  </tbody>\n",
       "</table>\n",
       "<p>5 rows × 29 columns</p>\n",
       "</div>"
      ],
      "text/plain": [
       "       bant_submit                 customer_country business_unit  \\\n",
       "18833         1.00  /uberlandia minas gerais/Brazil            AS   \n",
       "30531         1.00                               //            ID   \n",
       "59206         1.00              /DF/Brasília/Brazil            AS   \n",
       "56677         0.75                  /santiago/Chile            ID   \n",
       "37222         0.50                    //Philippines            AS   \n",
       "\n",
       "       com_reg_ver_win_rate  customer_idx          customer_type  enterprise  \\\n",
       "18833                   NaN         22284  Specifier/ Influencer  Enterprise   \n",
       "30531              0.074949         12418                    NaN  Enterprise   \n",
       "59206              0.040000         10232                    NaN  Enterprise   \n",
       "56677              0.073248         11760                    NaN         SMB   \n",
       "37222                   NaN         33776                    NaN  Enterprise   \n",
       "\n",
       "       historical_existing_cnt  id_strategic_ver  it_strategic_ver  ...  \\\n",
       "18833                      NaN               NaN               NaN  ...   \n",
       "30531                      NaN               1.0               NaN  ...   \n",
       "59206                      NaN               NaN               NaN  ...   \n",
       "56677                      NaN               NaN               NaN  ...   \n",
       "37222                      NaN               NaN               NaN  ...   \n",
       "\n",
       "       response_corporate    expected_timeline  ver_cus ver_pro  \\\n",
       "18833               LGESP  3 months ~ 6 months        0       0   \n",
       "30531               LGECB  3 months ~ 6 months        0       0   \n",
       "59206               LGESP  6 months ~ 9 months        0       0   \n",
       "56677               LGECL   less than 3 months        0       1   \n",
       "37222               LGEPH                  NaN        0       0   \n",
       "\n",
       "      ver_win_rate_x ver_win_ratio_per_bu       business_area  \\\n",
       "18833            NaN                  NaN                 NaN   \n",
       "30531       0.003079             0.064566  corporate / office   \n",
       "59206       0.000026             0.028777     public facility   \n",
       "56677       0.001183             0.049840              retail   \n",
       "37222            NaN                  NaN                 NaN   \n",
       "\n",
       "      business_subarea lead_owner is_converted  \n",
       "18833              NaN         97        False  \n",
       "30531              NaN        212        False  \n",
       "59206              NaN         23        False  \n",
       "56677              NaN        283        False  \n",
       "37222              NaN          0        False  \n",
       "\n",
       "[5 rows x 29 columns]"
      ]
     },
     "metadata": {},
     "output_type": "display_data"
    }
   ],
   "source": [
    "df_train = pd.read_csv(\"train.csv\") # 학습용 데이터\n",
    "df_test = pd.read_csv(\"submission.csv\") # 테스트 데이터(제출파일의 데이터)\n",
    "\n",
    "display(df_train.sample(5)) # 학습용 데이터 살펴보기"
   ]
  },
  {
   "cell_type": "code",
   "execution_count": 4,
   "metadata": {},
   "outputs": [],
   "source": [
    "\"\"\"\n",
    "*/*/country -> country\n",
    "\"\"\"\n",
    "\n",
    "def column_short(df : pd.DataFrame, column : str):\n",
    "    short_column = column+'_short'\n",
    "    df[short_column] = \"others\"\n",
    "    df[short_column][df[column].notna()] = df.copy()[df[column].notna()][column].apply(lambda x : x.split('/')[-1].split(',')[-1].strip().lower())\n",
    "    df[short_column].replace(\"\", \"others\", inplace=True)\n",
    "    # write aaa@aa.com -> others regex : r'@.*'\n",
    "    df[short_column].replace(to_replace=r'^[a-zA-Z0-9][a-zA-Z0-9._]+[@][a-zA-Z][A-Za-z.]+[.]\\w{2,}', value=\"others\", inplace=True, regex=True)\n",
    "\n",
    "\n",
    "def column_replace(df : pd.DataFrame, column : str, replace_dict : dict):\n",
    "    df[column].replace(r\"*[]\", inplace=True, regex=True)"
   ]
  },
  {
   "cell_type": "code",
   "execution_count": 60,
   "metadata": {},
   "outputs": [],
   "source": [
    "def target_ratio(column : str, nums : int):\n",
    "    targets_dict = df_train[df_train[column] == nums]['is_converted'].value_counts(ascending=False).to_dict()\n",
    "    if len(targets_dict) == 0:\n",
    "        F_target, T_target = 0, 0\n",
    "\n",
    "    elif len(targets_dict) == 1:\n",
    "        if True in targets_dict.keys():\n",
    "            F_target = 0\n",
    "            T_target = targets_dict[True]\n",
    "        elif False in targets_dict.keys():\n",
    "            T_target = 0\n",
    "            F_target = targets_dict[False]\n",
    "    \n",
    "    else:\n",
    "        F_target = targets_dict[False]\n",
    "        T_target = targets_dict[True]\n",
    "\n",
    "    if F_target == 0 and T_target==0:\n",
    "        print(\"{0} value of {1}\".format(nums, column)+\"'s target ratio : {0} / {1}, None\".format(T_target, F_target), \"\\n\")   \n",
    "    elif F_target == 0:\n",
    "        print(\"{0} value of {1}\".format(nums, column)+\"'s target ratio : {0} / {1}, only True\".format(T_target, F_target), \"\\n\")\n",
    "    else:\n",
    "        print(\"{0} value of {1}\".format(nums, column)+\"'s target ratio : {0} / {1} = {2:.2f} %\".format(T_target, F_target, T_target / F_target * 100), \"\\n\")"
   ]
  },
  {
   "cell_type": "markdown",
   "metadata": {},
   "source": [
    "### Column : bant_submit"
   ]
  },
  {
   "cell_type": "code",
   "execution_count": 56,
   "metadata": {},
   "outputs": [
    {
     "name": "stdout",
     "output_type": "stream",
     "text": [
      "1.0 value of bant_submit's target ratio : 1442 / 15619 = 9.23 % \n",
      "\n",
      "0.75 value of bant_submit's target ratio : 1117 / 10564 = 10.57 % \n",
      "\n",
      "0.5 value of bant_submit's target ratio : 937 / 16255 = 5.76 % \n",
      "\n",
      "0.25 value of bant_submit's target ratio : 1272 / 11580 = 10.98 % \n",
      "\n",
      "0.0 value of bant_submit's target ratio : 82 / 431 = 19.03 % \n",
      "\n"
     ]
    }
   ],
   "source": [
    "\"\"\"\n",
    "0, 0.25, 0.5, 0.75, 1 의 class가 존재\n",
    "\n",
    "class 별로 target 비율에 대해서 고려하기\n",
    "\n",
    "1 : 9.23%\n",
    "0.75 : 10.57%\n",
    "0.5 : 5.76%\n",
    "0.25 : 10.98%\n",
    "0 : 19.03%\n",
    "\n",
    "0일때, 0.5일때 꽤 유의미한 차이가 있고, 1, 0.75, 0.25는 비슷한 비율을 가지고 있다.\n",
    "\"\"\"\n",
    "columns = 'bant_submit'\n",
    "for nums in df_train[columns].unique():\n",
    "    target_ratio(columns, nums)"
   ]
  },
  {
   "cell_type": "markdown",
   "metadata": {},
   "source": [
    "### Column : customer_country"
   ]
  },
  {
   "cell_type": "code",
   "execution_count": null,
   "metadata": {},
   "outputs": [],
   "source": []
  },
  {
   "cell_type": "code",
   "execution_count": 7,
   "metadata": {},
   "outputs": [],
   "source": [
    "def show_customer_country_from_short(country_short : str):\n",
    "    print(df_train[df_train['customer_country_short'] == country_short].customer_country.value_counts())"
   ]
  },
  {
   "cell_type": "code",
   "execution_count": null,
   "metadata": {},
   "outputs": [],
   "source": []
  },
  {
   "cell_type": "code",
   "execution_count": null,
   "metadata": {},
   "outputs": [],
   "source": []
  },
  {
   "cell_type": "markdown",
   "metadata": {},
   "source": [
    "### Column : business_unit"
   ]
  },
  {
   "cell_type": "code",
   "execution_count": 8,
   "metadata": {},
   "outputs": [
    {
     "name": "stdout",
     "output_type": "stream",
     "text": [
      "AS value of business_unit's target ratio : 1383 / 23391 = 5.91 % \n",
      "\n",
      "ID value of business_unit's target ratio : 2620 / 22943 = 11.42 % \n",
      "\n",
      "IT value of business_unit's target ratio : 844 / 7820 = 10.79 % \n",
      "\n",
      "Solution value of business_unit's target ratio : 3 / 293 = 1.02 % \n",
      "\n",
      "CM value of business_unit's target ratio : 0 / 2 = 0.00 % \n",
      "\n"
     ]
    }
   ],
   "source": [
    "columns = 'business_unit'\n",
    "for nums in df_train[columns].unique():\n",
    "    target_ratio(columns, nums)"
   ]
  },
  {
   "cell_type": "markdown",
   "metadata": {},
   "source": [
    "### Column : com_reg_ver_win_rate"
   ]
  },
  {
   "cell_type": "code",
   "execution_count": 55,
   "metadata": {},
   "outputs": [
    {
     "name": "stdout",
     "output_type": "stream",
     "text": [
      "1.0 value of com_reg_ver_win_rate's target ratio : 4 / 6 = 66.67 % \n",
      "\n",
      "0.8333333333333334 value of com_reg_ver_win_rate's target ratio : 7 / 10 = 70.00 % \n",
      "\n",
      "0.6428571428571429 value of com_reg_ver_win_rate's target ratio : 321 / 461 = 69.63 % \n",
      "\n",
      "0.6153846153846154 value of com_reg_ver_win_rate's target ratio : 8 / 16 = 50.00 % \n",
      "\n",
      "0.5 value of com_reg_ver_win_rate's target ratio : 28 / 6 = 466.67 % \n",
      "\n",
      "0.4615384615384615 value of com_reg_ver_win_rate's target ratio : 8 / 8 = 100.00 % \n",
      "\n",
      "0.4444444444444444 value of com_reg_ver_win_rate's target ratio : 4 / 8 = 50.00 % \n",
      "\n",
      "0.4 value of com_reg_ver_win_rate's target ratio : 6 / 6 = 100.00 % \n",
      "\n",
      "0.3902439024390244 value of com_reg_ver_win_rate's target ratio : 28 / 67 = 41.79 % \n",
      "\n",
      "0.3636363636363636 value of com_reg_ver_win_rate's target ratio : 4 / 9 = 44.44 % \n",
      "\n",
      "0.3333333333333333 value of com_reg_ver_win_rate's target ratio : 32 / 78 = 41.03 % \n",
      "\n",
      "0.2692307692307692 value of com_reg_ver_win_rate's target ratio : 8 / 36 = 22.22 % \n",
      "\n",
      "0.25 value of com_reg_ver_win_rate's target ratio : 6 / 10 = 60.00 % \n",
      "\n",
      "0.2307692307692307 value of com_reg_ver_win_rate's target ratio : 10 / 30 = 33.33 % \n",
      "\n",
      "0.2142857142857142 value of com_reg_ver_win_rate's target ratio : 17 / 43 = 39.53 % \n",
      "\n",
      "0.2 value of com_reg_ver_win_rate's target ratio : 1 / 4 = 25.00 % \n",
      "\n",
      "0.1818181818181818 value of com_reg_ver_win_rate's target ratio : 4 / 29 = 13.79 % \n",
      "\n",
      "0.1666666666666666 value of com_reg_ver_win_rate's target ratio : 1 / 16 = 6.25 % \n",
      "\n",
      "0.1470588235294117 value of com_reg_ver_win_rate's target ratio : 8 / 38 = 21.05 % \n",
      "\n",
      "0.1363636363636363 value of com_reg_ver_win_rate's target ratio : 13 / 47 = 27.66 % \n",
      "\n",
      "0.125 value of com_reg_ver_win_rate's target ratio : 1 / 12 = 8.33 % \n",
      "\n",
      "0.1241217798594847 value of com_reg_ver_win_rate's target ratio : 55 / 376 = 14.63 % \n",
      "\n",
      "0.1186440677966101 value of com_reg_ver_win_rate's target ratio : 18 / 100 = 18.00 % \n",
      "\n",
      "0.1184210526315789 value of com_reg_ver_win_rate's target ratio : 20 / 121 = 16.53 % \n",
      "\n",
      "0.1162790697674418 value of com_reg_ver_win_rate's target ratio : 5 / 66 = 7.58 % \n",
      "\n",
      "0.1136363636363636 value of com_reg_ver_win_rate's target ratio : 5 / 52 = 9.62 % \n",
      "\n",
      "0.1052631578947368 value of com_reg_ver_win_rate's target ratio : 2 / 29 = 6.90 % \n",
      "\n",
      "0.0888888888888888 value of com_reg_ver_win_rate's target ratio : 14 / 106 = 13.21 % \n",
      "\n",
      "0.0869565217391304 value of com_reg_ver_win_rate's target ratio : 4 / 58 = 6.90 % \n",
      "\n",
      "0.0843373493975903 value of com_reg_ver_win_rate's target ratio : 17 / 149 = 11.41 % \n",
      "\n",
      "0.0833333333333333 value of com_reg_ver_win_rate's target ratio : 2 / 15 = 13.33 % \n",
      "\n",
      "0.0806916426512968 value of com_reg_ver_win_rate's target ratio : 32 / 378 = 8.47 % \n",
      "\n",
      "0.075 value of com_reg_ver_win_rate's target ratio : 16 / 258 = 6.20 % \n",
      "\n",
      "0.0749486652977412 value of com_reg_ver_win_rate's target ratio : 106 / 1024 = 10.35 % \n",
      "\n",
      "0.0732484076433121 value of com_reg_ver_win_rate's target ratio : 59 / 732 = 8.06 % \n",
      "\n",
      "0.0714285714285714 value of com_reg_ver_win_rate's target ratio : 8 / 74 = 10.81 % \n",
      "\n",
      "0.0695652173913043 value of com_reg_ver_win_rate's target ratio : 19 / 232 = 8.19 % \n",
      "\n",
      "0.0681818181818181 value of com_reg_ver_win_rate's target ratio : 3 / 100 = 3.00 % \n",
      "\n",
      "0.0677966101694915 value of com_reg_ver_win_rate's target ratio : 9 / 231 = 3.90 % \n",
      "\n",
      "0.0666666666666666 value of com_reg_ver_win_rate's target ratio : 20 / 196 = 10.20 % \n",
      "\n",
      "0.0575342465753424 value of com_reg_ver_win_rate's target ratio : 29 / 370 = 7.84 % \n",
      "\n",
      "0.0555555555555555 value of com_reg_ver_win_rate's target ratio : 2 / 20 = 10.00 % \n",
      "\n",
      "0.0544217687074829 value of com_reg_ver_win_rate's target ratio : 13 / 162 = 8.02 % \n",
      "\n",
      "0.0538922155688622 value of com_reg_ver_win_rate's target ratio : 13 / 180 = 7.22 % \n",
      "\n",
      "0.0531914893617021 value of com_reg_ver_win_rate's target ratio : 5 / 94 = 5.32 % \n",
      "\n",
      "0.0496894409937888 value of com_reg_ver_win_rate's target ratio : 10 / 162 = 6.17 % \n",
      "\n",
      "0.0491803278688524 value of com_reg_ver_win_rate's target ratio : 11 / 203 = 5.42 % \n",
      "\n",
      "0.0485436893203883 value of com_reg_ver_win_rate's target ratio : 6 / 103 = 5.83 % \n",
      "\n",
      "0.0476190476190476 value of com_reg_ver_win_rate's target ratio : 7 / 134 = 5.22 % \n",
      "\n",
      "0.0446428571428571 value of com_reg_ver_win_rate's target ratio : 40 / 252 = 15.87 % \n",
      "\n",
      "0.0434782608695652 value of com_reg_ver_win_rate's target ratio : 4 / 50 = 8.00 % \n",
      "\n",
      "0.043103448275862 value of com_reg_ver_win_rate's target ratio : 5 / 148 = 3.38 % \n",
      "\n",
      "0.0422535211267605 value of com_reg_ver_win_rate's target ratio : 16 / 84 = 19.05 % \n",
      "\n",
      "0.0416666666666666 value of com_reg_ver_win_rate's target ratio : 7 / 82 = 8.54 % \n",
      "\n",
      "0.0408163265306122 value of com_reg_ver_win_rate's target ratio : 7 / 148 = 4.73 % \n",
      "\n",
      "0.04 value of com_reg_ver_win_rate's target ratio : 11 / 265 = 4.15 % \n",
      "\n",
      "0.037037037037037 value of com_reg_ver_win_rate's target ratio : 3 / 72 = 4.17 % \n",
      "\n",
      "0.036036036036036 value of com_reg_ver_win_rate's target ratio : 5 / 114 = 4.39 % \n",
      "\n",
      "0.0330578512396694 value of com_reg_ver_win_rate's target ratio : 6 / 122 = 4.92 % \n",
      "\n",
      "0.0327868852459016 value of com_reg_ver_win_rate's target ratio : 20 / 402 = 4.98 % \n",
      "\n",
      "0.032258064516129 value of com_reg_ver_win_rate's target ratio : 4 / 102 = 3.92 % \n",
      "\n",
      "0.0311958405545927 value of com_reg_ver_win_rate's target ratio : 20 / 589 = 3.40 % \n",
      "\n",
      "0.0289855072463768 value of com_reg_ver_win_rate's target ratio : 6 / 110 = 5.45 % \n",
      "\n",
      "0.0289256198347107 value of com_reg_ver_win_rate's target ratio : 10 / 243 = 4.12 % \n",
      "\n",
      "0.025 value of com_reg_ver_win_rate's target ratio : 1 / 53 = 1.89 % \n",
      "\n",
      "0.0227272727272727 value of com_reg_ver_win_rate's target ratio : 11 / 47 = 23.40 % \n",
      "\n",
      "0.0202020202020202 value of com_reg_ver_win_rate's target ratio : 6 / 104 = 5.77 % \n",
      "\n",
      "0.0199004975124378 value of com_reg_ver_win_rate's target ratio : 15 / 301 = 4.98 % \n",
      "\n",
      "0.0196078431372549 value of com_reg_ver_win_rate's target ratio : 3 / 104 = 2.88 % \n",
      "\n",
      "0.0181818181818181 value of com_reg_ver_win_rate's target ratio : 1 / 64 = 1.56 % \n",
      "\n",
      "0.0175438596491228 value of com_reg_ver_win_rate's target ratio : 1 / 95 = 1.05 % \n",
      "\n",
      "0.0172413793103448 value of com_reg_ver_win_rate's target ratio : 1 / 62 = 1.61 % \n",
      "\n",
      "0.0169491525423728 value of com_reg_ver_win_rate's target ratio : 9 / 212 = 4.25 % \n",
      "\n",
      "0.0151515151515151 value of com_reg_ver_win_rate's target ratio : 4 / 114 = 3.51 % \n",
      "\n",
      "0.0135135135135135 value of com_reg_ver_win_rate's target ratio : 6 / 236 = 2.54 % \n",
      "\n",
      "0.0118577075098814 value of com_reg_ver_win_rate's target ratio : 6 / 417 = 1.44 % \n",
      "\n",
      "0.0109890109890109 value of com_reg_ver_win_rate's target ratio : 1 / 103 = 0.97 % \n",
      "\n",
      "0.004 value of com_reg_ver_win_rate's target ratio : 1 / 433 = 0.23 % \n",
      "\n",
      "0.0039370078740157 value of com_reg_ver_win_rate's target ratio : 5 / 798 = 0.63 % \n",
      "\n",
      "0.0037878787878787 value of com_reg_ver_win_rate's target ratio : 2 / 711 = 0.28 % \n",
      "\n"
     ]
    }
   ],
   "source": [
    "columns = 'com_reg_ver_win_rate'\n",
    "temp_dict = df_train[columns].value_counts().to_dict()\n",
    "temp_dict = {k: v for k, v in sorted(temp_dict.items(), key=lambda x : x[0], reverse=True)}\n",
    "\n",
    "for k, v in temp_dict.items():\n",
    "    target_ratio(columns, k)"
   ]
  },
  {
   "cell_type": "markdown",
   "metadata": {},
   "source": [
    "### Column : customer_idx"
   ]
  },
  {
   "cell_type": "code",
   "execution_count": 10,
   "metadata": {},
   "outputs": [
    {
     "data": {
      "text/plain": [
       "customer_idx\n",
       "47466    7686\n",
       "25096    2421\n",
       "37680     367\n",
       "18030     331\n",
       "21321     162\n",
       "         ... \n",
       "39487       1\n",
       "41241       1\n",
       "39422       1\n",
       "22515       1\n",
       "30268       1\n",
       "Name: count, Length: 35112, dtype: int64"
      ]
     },
     "execution_count": 10,
     "metadata": {},
     "output_type": "execute_result"
    }
   ],
   "source": [
    "columns = 'customer_idx'\n",
    "df_train[columns].value_counts()"
   ]
  },
  {
   "cell_type": "code",
   "execution_count": 20,
   "metadata": {},
   "outputs": [],
   "source": [
    "columns = 'customer_idx'\n",
    "# value_counts 결과 dict로 변환\n",
    "temp_dict = df_train[columns].value_counts().to_dict()\n",
    "temp_dict = {k: v for k, v in sorted(temp_dict.items(), key=lambda x:-x[1])}\n",
    "\n",
    "\n",
    "for_plot = []\n",
    "def temp_target_ratio(\n",
    "        column : str, \n",
    "        nums : int, \n",
    "        value : int):\n",
    "    \n",
    "    targets_dict = df_train[df_train[column] == nums]['is_converted'].value_counts(ascending=False).to_dict()\n",
    "\n",
    "    if len(targets_dict) == 1:\n",
    "        if True in targets_dict.keys():\n",
    "            T_target = targets_dict[True]\n",
    "        elif False in targets_dict.keys():\n",
    "            T_target = 0\n",
    "    else:\n",
    "        T_target = targets_dict[True]\n",
    "    \n",
    "    trigger = round(T_target / value * 100, 2)\n",
    "\n",
    "    # portion value of target for histplot\n",
    "    for_plot.append(trigger)\n",
    "    \n",
    "    # if portion 80%, add to set (standards for other columns)\n",
    "    if trigger >= 80:\n",
    "        holigun.add(nums)\n",
    "\n",
    "holigun = set()\n",
    "for k, v in temp_dict.items():\n",
    "    temp_target_ratio(columns, k, v)"
   ]
  },
  {
   "cell_type": "code",
   "execution_count": 48,
   "metadata": {},
   "outputs": [
    {
     "data": {
      "image/png": "[encoded data removed]",
      "text/plain": [
       "<Figure size 640x480 with 1 Axes>"
      ]
     },
     "metadata": {},
     "output_type": "display_data"
    },
    {
     "name": "stdout",
     "output_type": "stream",
     "text": [
      "충성고객 회사 개수 : 1515\n",
      "충성고객 회사명단 : {10, 40986, 24608, 24610, 16433, 8251, 16443, 41021, 8256, 16451, 41032, 16458, 32846, 24659, 8282, 96, 16481, 98, 16480, 8297, 41067, 8307, 32889, 41082, 32897, 8334, 8335, 32912, 41112, 41113, 16541, 24737, 32934, 32938, 41135, 24761, 16573, 16574, 32961, 32966, 8391, 41163, 8407, 8409, 226, 24813, 240, 241, 242, 33010, 24820, 24819, 33016, 255, 33029, 24839, 24840, 41227, 8460, 41233, 33053, 8478, 33058, 24873, 24883, 8509, 24905, 33100, 16721, 16727, 348, 41314, 8555, 33152, 8582, 391, 8583, 8585, 8586, 16781, 33167, 33168, 41359, 8599, 8602, 8603, 33196, 8624, 16819, 8630, 8632, 442, 443, 444, 447, 41412, 41414, 455, 456, 457, 458, 459, 460, 461, 462, 25039, 463, 465, 466, 464, 16856, 8672, 483, 8676, 8681, 16873, 8683, 25073, 41457, 498, 25076, 33269, 25084, 8704, 8705, 16898, 25096, 25097, 41485, 33296, 41489, 529, 33299, 33300, 25117, 550, 555, 570, 41537, 41538, 8781, 33375, 25192, 41576, 33399, 33407, 17023, 25217, 8840, 8841, 8842, 8843, 665, 41631, 33439, 41636, 41649, 8884, 25274, 33470, 8901, 25287, 41673, 25293, 17102, 33498, 33500, 17126, 17130, 33516, 788, 33557, 790, 8980, 792, 17181, 33584, 41785, 9025, 25415, 33616, 41808, 41825, 33639, 878, 25455, 17270, 41847, 33656, 33657, 25466, 41857, 17286, 33674, 41867, 33676, 17293, 17292, 17307, 933, 33711, 950, 25532, 41922, 33731, 25539, 33738, 17365, 17366, 982, 986, 41947, 987, 41948, 41972, 33789, 1025, 33801, 1042, 17427, 1046, 25622, 1049, 17444, 1062, 1063, 17450, 33840, 9269, 1078, 42042, 33860, 9301, 25692, 25694, 17511, 9323, 9324, 33899, 9325, 42099, 17523, 25721, 25722, 42108, 42110, 33919, 25728, 25730, 25731, 1157, 25754, 25755, 25756, 25758, 1195, 33971, 1209, 33989, 25797, 17616, 34001, 9435, 9437, 42206, 17634, 17650, 42226, 34037, 1277, 42240, 34056, 42252, 17700, 1321, 1323, 25900, 25901, 34099, 25914, 25916, 9538, 25926, 25928, 9547, 25932, 1359, 42321, 42322, 42323, 25940, 9571, 1395, 17779, 1402, 34173, 42365, 34175, 1409, 1410, 1411, 42372, 9606, 1420, 9613, 17813, 34198, 42393, 34204, 9632, 17825, 42407, 26026, 42415, 26039, 1477, 34260, 9686, 34263, 34264, 42464, 34276, 34281, 34282, 34283, 42476, 26096, 17909, 1528, 42490, 1549, 34322, 26136, 17964, 9777, 17972, 9780, 17983, 42562, 9805, 9807, 26193, 1617, 9821, 9823, 9824, 9825, 9826, 9827, 9840, 18033, 9857, 1669, 18057, 18060, 42636, 26256, 26260, 26262, 34469, 18096, 1714, 42675, 26304, 42689, 18116, 26337, 34534, 1772, 18158, 18159, 42743, 18179, 26373, 1801, 18186, 1803, 1804, 18194, 34580, 1815, 18201, 10017, 10020, 10026, 10033, 34633, 26443, 10065, 34642, 18267, 42855, 1901, 18295, 1914, 1915, 26490, 26501, 34694, 10117, 34699, 34702, 18324, 18325, 42905, 18331, 42907, 34717, 34718, 26530, 18345, 34729, 18347, 34744, 42945, 42952, 42960, 2002, 18394, 34780, 2013, 26602, 34801, 42994, 10225, 42998, 43005, 18431, 18438, 18439, 2063, 34846, 18464, 43046, 43047, 34856, 2112, 10309, 10317, 26704, 43092, 10350, 10357, 10361, 18560, 43137, 10369, 34955, 10379, 10382, 34958, 43150, 18582, 26784, 10405, 2224, 43186, 26812, 10430, 18623, 43199, 18624, 2242, 43205, 18631, 43213, 35022, 18641, 10450, 35034, 2275, 10483, 10493, 26880, 43266, 10507, 10510, 35091, 10518, 35114, 18736, 35125, 18747, 43344, 18771, 18774, 26967, 18775, 26966, 43357, 18786, 18800, 18806, 18809, 18810, 2426, 10626, 35203, 35204, 10630, 43407, 10658, 35256, 10683, 35264, 2507, 10699, 43472, 43474, 27098, 43493, 18926, 10734, 18932, 43513, 18940, 43522, 18953, 10762, 35339, 2574, 2576, 18965, 43564, 43567, 35377, 27188, 10804, 10805, 18996, 43590, 43591, 43603, 43604, 10840, 43611, 10851, 43621, 10858, 19058, 19059, 27270, 19079, 2700, 10895, 27279, 43666, 43673, 43674, 43675, 10905, 19101, 10911, 19114, 10928, 19121, 10942, 10943, 35520, 2752, 2762, 2765, 43726, 19151, 43727, 27342, 19159, 19162, 27355, 10970, 2787, 2788, 19175, 43772, 43773, 11006, 27396, 11012, 11014, 11015, 2827, 19219, 19222, 27419, 2843, 19236, 43818, 27435, 43819, 19251, 19252, 19254, 19256, 27452, 11072, 27458, 43842, 2885, 2890, 19276, 2899, 19301, 11116, 19316, 2944, 2945, 2958, 27536, 43921, 43922, 2964, 35740, 27554, 19369, 19370, 2990, 2991, 2993, 43959, 3012, 3016, 3018, 19413, 11225, 3034, 3035, 44009, 19437, 3060, 35831, 3064, 19459, 11275, 44054, 44055, 11291, 44064, 44065, 44075, 19500, 19513, 44093, 44094, 35903, 44103, 3158, 19543, 44118, 35940, 19561, 44138, 44139, 19565, 11379, 19572, 11383, 35962, 35963, 19583, 27787, 27789, 27790, 27791, 19608, 11423, 11426, 19618, 3239, 19644, 19645, 27838, 19653, 44236, 36048, 27859, 27860, 44246, 44247, 3289, 36059, 36062, 3295, 44256, 19698, 11515, 3330, 36099, 3334, 27913, 19721, 11541, 11548, 11551, 19745, 44321, 36137, 27953, 11576, 44347, 27963, 19778, 19779, 19786, 36173, 36174, 36178, 3414, 19801, 44379, 11613, 36202, 36209, 3446, 3452, 19837, 3454, 3460, 19848, 3469, 3470, 19860, 19861, 19862, 44437, 19864, 19865, 36259, 3494, 3501, 44473, 11712, 3523, 3580, 19964, 19965, 36370, 36383, 36385, 44577, 11812, 11828, 36405, 28214, 44601, 20030, 44613, 36428, 20045, 20046, 11856, 44625, 11864, 20056, 20063, 20064, 20066, 20069, 20070, 20088, 20091, 20100, 36488, 36489, 28300, 20111, 20120, 11929, 20122, 20121, 44703, 44704, 44708, 36517, 28328, 20136, 44713, 3767, 28344, 20152, 44732, 20159, 20160, 20166, 20167, 20168, 20174, 28368, 20178, 20179, 20180, 20189, 11997, 28388, 44773, 20198, 20200, 20207, 3825, 44789, 20217, 3837, 20225, 12041, 44811, 20238, 20244, 20253, 12066, 12067, 44836, 36650, 44845, 20270, 44849, 36666, 44860, 12095, 20295, 12104, 20303, 12134, 36734, 28553, 44948, 20373, 12187, 44956, 12207, 44984, 36810, 4051, 36831, 4067, 20459, 20487, 12297, 45068, 12308, 45082, 45085, 12320, 28708, 28717, 45107, 28726, 4151, 4170, 4180, 36962, 45157, 36966, 12410, 20602, 45180, 12413, 12414, 28796, 36998, 45191, 37000, 36999, 28815, 12439, 45209, 20643, 45227, 20653, 28846, 45233, 28849, 37046, 20664, 45241, 45243, 20667, 20674, 28868, 4293, 45252, 37063, 37090, 20707, 28906, 37099, 37101, 28912, 20729, 20730, 28926, 20736, 37122, 45319, 28936, 37134, 37142, 28954, 45342, 4387, 37158, 37159, 20777, 4395, 4397, 37168, 28977, 37180, 12607, 45378, 20807, 45383, 45385, 12616, 4427, 12619, 37199, 37216, 37220, 45412, 37235, 45443, 37273, 4507, 37293, 20920, 29117, 20943, 12755, 12763, 20957, 12766, 4592, 20977, 20987, 20989, 29182, 45570, 4610, 37389, 21013, 12822, 37409, 37417, 21033, 45616, 4657, 12856, 4667, 37439, 45637, 21069, 21075, 45652, 12888, 4707, 37487, 4724, 21114, 37501, 37505, 4744, 37516, 45711, 29329, 12945, 45715, 29357, 12980, 37560, 4793, 37562, 4797, 4798, 21187, 21190, 45790, 21218, 29411, 4844, 45816, 29434, 37630, 37633, 37634, 13062, 29454, 45839, 4889, 4896, 29489, 21303, 4919, 45882, 13114, 37691, 13131, 29516, 37714, 45911, 45917, 4959, 37741, 45939, 45944, 45950, 29569, 21378, 21379, 13191, 37769, 37771, 29586, 5023, 5024, 5025, 21407, 5027, 29604, 5029, 5026, 5031, 5032, 45998, 46001, 5044, 21429, 13240, 29627, 5070, 21455, 46031, 29652, 13269, 46037, 46049, 21501, 21503, 13326, 5143, 29758, 46151, 5194, 46168, 46170, 21604, 37992, 21608, 5231, 5232, 46202, 5244, 13440, 13441, 5249, 29825, 46216, 13465, 29853, 46248, 13481, 13480, 46251, 21682, 5305, 29882, 21698, 13507, 29893, 5327, 46291, 21717, 21721, 21727, 38111, 38121, 5369, 46329, 5372, 13565, 21768, 13580, 5389, 5390, 29969, 21778, 21779, 5398, 21783, 38171, 46368, 29990, 21802, 38189, 30009, 30017, 46411, 46422, 46427, 21853, 38246, 5483, 46446, 38259, 5494, 5504, 5505, 5510, 38292, 21922, 5576, 5580, 30170, 13797, 38373, 46571, 38393, 30231, 38429, 46622, 5663, 30240, 22049, 30246, 22062, 38452, 22092, 22093, 30294, 13932, 13933, 13934, 46702, 30321, 22136, 5755, 5756, 46717, 13949, 22145, 22146, 5763, 22155, 13963, 22158, 13967, 5777, 5792, 38560, 22191, 46771, 22196, 22212, 38609, 46802, 46803, 22228, 5847, 30430, 30431, 30432, 30433, 5863, 30455, 46845, 14077, 30468, 38666, 22283, 22296, 14141, 38727, 14152, 5961, 38728, 5963, 30540, 14154, 30547, 38747, 14171, 22366, 30558, 14201, 22401, 38792, 22411, 6027, 22413, 22414, 22417, 14225, 22433, 38826, 38847, 30659, 6084, 6086, 30663, 30665, 6101, 38872, 30688, 38900, 14328, 22520, 38904, 14332, 22530, 30740, 30748, 6188, 30765, 22573, 30783, 22593, 30788, 22599, 6223, 39015, 6257, 47217, 22655, 30867, 39061, 6296, 14493, 14499, 6328, 30914, 22738, 22740, 14549, 6359, 30941, 39133, 22773, 22777, 30973, 30988, 39190, 14614, 14618, 22811, 22829, 47413, 39227, 47420, 31042, 47428, 47429, 6469, 14663, 14664, 31048, 39244, 6479, 6480, 47442, 47443, 47447, 47450, 47455, 47457, 6507, 22897, 6517, 14716, 14736, 14737, 31122, 14742, 14746, 6562, 22954, 14783, 14785, 6603, 23001, 39405, 6639, 23038, 23042, 6660, 31239, 31245, 31247, 31258, 23086, 31278, 6715, 31296, 23122, 39516, 31329, 6762, 39535, 39536, 23154, 39539, 31350, 31359, 14985, 6794, 31399, 15018, 23213, 6843, 6844, 6858, 6873, 31451, 39643, 15068, 39648, 39650, 39657, 6891, 31474, 6933, 23320, 39709, 39712, 6952, 15148, 23341, 23342, 31533, 6968, 39739, 15172, 6980, 31561, 31562, 15193, 39771, 39782, 23401, 23403, 23416, 23419, 7039, 15236, 31627, 7052, 7053, 23442, 31635, 31643, 15265, 31653, 15272, 23468, 7093, 7104, 7116, 15324, 39908, 31734, 7160, 7166, 15368, 31756, 7181, 15378, 7186, 39957, 7197, 23597, 39990, 39992, 39996, 7228, 39998, 15422, 23622, 15447, 15448, 31849, 15465, 31852, 23664, 23665, 31857, 7287, 40071, 31879, 15527, 15528, 7344, 7345, 23740, 40134, 23751, 40142, 40154, 7388, 7400, 15595, 31982, 15599, 31986, 40182, 40195, 23813, 7446, 40217, 40218, 7459, 40237, 32055, 7481, 7486, 40254, 32063, 23882, 7510, 23906, 23922, 23924, 40314, 32123, 15742, 32138, 40343, 7576, 7583, 7590, 15790, 7602, 15798, 7607, 32208, 15826, 24018, 15834, 32219, 24031, 32233, 24046, 40431, 24072, 32282, 7707, 15903, 32295, 15911, 32297, 32303, 7727, 7729, 7740, 7757, 24154, 7774, 24181, 40573, 40576, 16018, 24213, 24218, 16026, 32413, 40608, 7847, 40621, 24259, 24260, 24278, 24281, 32477, 32478, 40671, 16107, 7921, 32512, 32516, 40718, 16154, 16170, 32558, 7984, 40754, 40768, 24386, 40772, 32580, 32590, 32594, 40786, 16213, 8023, 16220, 16237, 40815, 40816, 8048, 8060, 16260, 16261, 8068, 16263, 24464, 40849, 8094, 16290, 16295, 8107, 24500, 16328, 40911, 8146, 16355, 8173, 32755, 8180, 8189} \n",
      "\n",
      "80% 이상 : 1515 개\n",
      "80% 미만 : 33597 개\n"
     ]
    }
   ],
   "source": [
    "# plot portions\n",
    "sns.kdeplot(for_plot)\n",
    "plt.show()\n",
    "\n",
    "# print result of portion\n",
    "print('충성고객 회사 개수 :', len(holigun))\n",
    "print('충성고객 회사명단 :', holigun, '\\n')\n",
    "\n",
    "# numbers of over_80% and below_80%\n",
    "above_80 = 0\n",
    "below_80 = 0\n",
    "for k, v in Counter(for_plot).items() :\n",
    "    if k >= 80:\n",
    "        above_80 += v\n",
    "    else:\n",
    "        below_80 += v\n",
    "\n",
    "print(\"80% 이상 :\", above_80, \"개\")\n",
    "print(\"80% 미만 :\", below_80, \"개\")\n",
    "    "
   ]
  },
  {
   "cell_type": "markdown",
   "metadata": {},
   "source": [
    "### Column : customer_type"
   ]
  },
  {
   "cell_type": "code",
   "execution_count": 61,
   "metadata": {},
   "outputs": [
    {
     "name": "stdout",
     "output_type": "stream",
     "text": [
      "43961\n",
      "End-Customer value of customer_type's target ratio : 757 / 5890 = 12.85 % \n",
      "\n",
      "Specifier/ Influencer value of customer_type's target ratio : 189 / 2336 = 8.09 % \n",
      "\n",
      "Service Partner value of customer_type's target ratio : 49 / 300 = 16.33 % \n",
      "\n",
      "Channel Partner value of customer_type's target ratio : 166 / 1202 = 13.81 % \n",
      "\n",
      "nan value of customer_type's target ratio : 0 / 0, None \n",
      "\n",
      "Corporate value of customer_type's target ratio : 0 / 31 = 0.00 % \n",
      "\n",
      "End Customer value of customer_type's target ratio : 711 / 3285 = 21.64 % \n",
      "\n",
      "Specifier / Influencer value of customer_type's target ratio : 15 / 28 = 53.57 % \n",
      "\n",
      "Solution Eco-Partner value of customer_type's target ratio : 43 / 103 = 41.75 % \n",
      "\n",
      "Distributor value of customer_type's target ratio : 0 / 4 = 0.00 % \n",
      "\n",
      "Other value of customer_type's target ratio : 0 / 10 = 0.00 % \n",
      "\n",
      "System Integrator value of customer_type's target ratio : 0 / 2 = 0.00 % \n",
      "\n",
      "Consultant value of customer_type's target ratio : 11 / 4 = 275.00 % \n",
      "\n",
      "Installer value of customer_type's target ratio : 5 / 0, only True \n",
      "\n",
      "Homeowner value of customer_type's target ratio : 3 / 2 = 150.00 % \n",
      "\n",
      "Others value of customer_type's target ratio : 2 / 2 = 100.00 % \n",
      "\n",
      "Technician value of customer_type's target ratio : 0 / 16 = 0.00 % \n",
      "\n",
      "Installer/Contractor value of customer_type's target ratio : 1 / 51 = 1.96 % \n",
      "\n",
      "Engineer value of customer_type's target ratio : 0 / 20 = 0.00 % \n",
      "\n",
      "Manager / Director value of customer_type's target ratio : 0 / 8 = 0.00 % \n",
      "\n",
      "Developer value of customer_type's target ratio : 0 / 17 = 0.00 % \n",
      "\n",
      "Etc. value of customer_type's target ratio : 0 / 6 = 0.00 % \n",
      "\n",
      "Architect/Consultant value of customer_type's target ratio : 2 / 3 = 66.67 % \n",
      "\n",
      "End-user value of customer_type's target ratio : 0 / 8 = 0.00 % \n",
      "\n",
      "HVAC Engineer value of customer_type's target ratio : 0 / 23 = 0.00 % \n",
      "\n",
      "Reseller value of customer_type's target ratio : 0 / 5 = 0.00 % \n",
      "\n",
      "Software/Solution Provider value of customer_type's target ratio : 0 / 7 = 0.00 % \n",
      "\n",
      "Software / Solution Provider value of customer_type's target ratio : 0 / 1 = 0.00 % \n",
      "\n",
      "Dealer/Distributor value of customer_type's target ratio : 0 / 2 = 0.00 % \n",
      "\n",
      "Technical Assistant value of customer_type's target ratio : 0 / 1 = 0.00 % \n",
      "\n",
      "Commercial end-user value of customer_type's target ratio : 0 / 1 = 0.00 % \n",
      "\n",
      "Interior Designer value of customer_type's target ratio : 0 / 5 = 0.00 % \n",
      "\n",
      "Home Owner value of customer_type's target ratio : 0 / 10 = 0.00 % \n",
      "\n",
      "Administrator value of customer_type's target ratio : 0 / 1 = 0.00 % \n",
      "\n"
     ]
    }
   ],
   "source": [
    "# 43961 is null, delete column\n",
    "print(df_train['customer_type'].isnull().sum())\n",
    "\n",
    "column = 'customer_type'\n",
    "for nums in df_train[column].unique():\n",
    "    target_ratio(column, nums)\n"
   ]
  },
  {
   "cell_type": "markdown",
   "metadata": {},
   "source": [
    "### Column : Enterprise"
   ]
  },
  {
   "cell_type": "code",
   "execution_count": 62,
   "metadata": {},
   "outputs": [
    {
     "name": "stdout",
     "output_type": "stream",
     "text": [
      "Enterprise value of enterprise's target ratio : 2114 / 35669 = 5.93 % \n",
      "\n",
      "SMB value of enterprise's target ratio : 2736 / 18780 = 14.57 % \n",
      "\n"
     ]
    }
   ],
   "source": [
    "column = 'enterprise'\n",
    "for nums in df_train[column].unique():\n",
    "    target_ratio(column, nums)\n"
   ]
  },
  {
   "cell_type": "markdown",
   "metadata": {},
   "source": [
    "### Column : historical_existing_cnt"
   ]
  },
  {
   "cell_type": "code",
   "execution_count": 65,
   "metadata": {},
   "outputs": [
    {
     "name": "stdout",
     "output_type": "stream",
     "text": [
      "historical_existing_cnt\n",
      "4.0       2957\n",
      "0.0       1973\n",
      "1.0       1967\n",
      "19.0      1441\n",
      "16.0      1132\n",
      "          ... \n",
      "404.0        1\n",
      "145.0        1\n",
      "1394.0       1\n",
      "199.0        1\n",
      "108.0        1\n",
      "Name: count, Length: 136, dtype: int64 \n",
      "\n",
      "nan value of historical_existing_cnt's target ratio : 0 / 0, None \n",
      "\n",
      "12.0 value of historical_existing_cnt's target ratio : 4 / 44 = 9.09 % \n",
      "\n",
      "144.0 value of historical_existing_cnt's target ratio : 2 / 1 = 200.00 % \n",
      "\n",
      "3.0 value of historical_existing_cnt's target ratio : 23 / 672 = 3.42 % \n",
      "\n",
      "23.0 value of historical_existing_cnt's target ratio : 3 / 16 = 18.75 % \n",
      "\n",
      "47.0 value of historical_existing_cnt's target ratio : 2 / 9 = 22.22 % \n",
      "\n",
      "0.0 value of historical_existing_cnt's target ratio : 305 / 1668 = 18.29 % \n",
      "\n",
      "1.0 value of historical_existing_cnt's target ratio : 86 / 1881 = 4.57 % \n",
      "\n",
      "19.0 value of historical_existing_cnt's target ratio : 24 / 1417 = 1.69 % \n",
      "\n",
      "42.0 value of historical_existing_cnt's target ratio : 2 / 9 = 22.22 % \n",
      "\n",
      "75.0 value of historical_existing_cnt's target ratio : 0 / 6 = 0.00 % \n",
      "\n",
      "17.0 value of historical_existing_cnt's target ratio : 4 / 38 = 10.53 % \n",
      "\n",
      "20.0 value of historical_existing_cnt's target ratio : 0 / 9 = 0.00 % \n",
      "\n",
      "5.0 value of historical_existing_cnt's target ratio : 7 / 131 = 5.34 % \n",
      "\n",
      "2.0 value of historical_existing_cnt's target ratio : 37 / 557 = 6.64 % \n",
      "\n",
      "115.0 value of historical_existing_cnt's target ratio : 3 / 851 = 0.35 % \n",
      "\n",
      "4.0 value of historical_existing_cnt's target ratio : 11 / 2946 = 0.37 % \n",
      "\n",
      "16.0 value of historical_existing_cnt's target ratio : 2 / 1130 = 0.18 % \n",
      "\n",
      "6.0 value of historical_existing_cnt's target ratio : 11 / 130 = 8.46 % \n",
      "\n",
      "31.0 value of historical_existing_cnt's target ratio : 19 / 12 = 158.33 % \n",
      "\n",
      "49.0 value of historical_existing_cnt's target ratio : 1 / 16 = 6.25 % \n",
      "\n",
      "10.0 value of historical_existing_cnt's target ratio : 1 / 59 = 1.69 % \n",
      "\n",
      "11.0 value of historical_existing_cnt's target ratio : 2 / 215 = 0.93 % \n",
      "\n",
      "40.0 value of historical_existing_cnt's target ratio : 5 / 8 = 62.50 % \n",
      "\n",
      "7.0 value of historical_existing_cnt's target ratio : 11 / 58 = 18.97 % \n",
      "\n",
      "61.0 value of historical_existing_cnt's target ratio : 0 / 5 = 0.00 % \n",
      "\n",
      "45.0 value of historical_existing_cnt's target ratio : 1 / 81 = 1.23 % \n",
      "\n",
      "57.0 value of historical_existing_cnt's target ratio : 1 / 2 = 50.00 % \n",
      "\n",
      "175.0 value of historical_existing_cnt's target ratio : 0 / 1 = 0.00 % \n",
      "\n",
      "13.0 value of historical_existing_cnt's target ratio : 6 / 43 = 13.95 % \n",
      "\n",
      "99.0 value of historical_existing_cnt's target ratio : 0 / 5 = 0.00 % \n",
      "\n",
      "15.0 value of historical_existing_cnt's target ratio : 2 / 32 = 6.25 % \n",
      "\n",
      "8.0 value of historical_existing_cnt's target ratio : 7 / 36 = 19.44 % \n",
      "\n",
      "21.0 value of historical_existing_cnt's target ratio : 1 / 18 = 5.56 % \n",
      "\n",
      "56.0 value of historical_existing_cnt's target ratio : 2 / 10 = 20.00 % \n",
      "\n",
      "666.0 value of historical_existing_cnt's target ratio : 0 / 4 = 0.00 % \n",
      "\n",
      "122.0 value of historical_existing_cnt's target ratio : 0 / 5 = 0.00 % \n",
      "\n",
      "324.0 value of historical_existing_cnt's target ratio : 0 / 2 = 0.00 % \n",
      "\n",
      "22.0 value of historical_existing_cnt's target ratio : 3 / 17 = 17.65 % \n",
      "\n",
      "80.0 value of historical_existing_cnt's target ratio : 0 / 4 = 0.00 % \n",
      "\n",
      "36.0 value of historical_existing_cnt's target ratio : 0 / 13 = 0.00 % \n",
      "\n",
      "28.0 value of historical_existing_cnt's target ratio : 2 / 6 = 33.33 % \n",
      "\n",
      "172.0 value of historical_existing_cnt's target ratio : 1 / 0, only True \n",
      "\n",
      "66.0 value of historical_existing_cnt's target ratio : 2 / 2 = 100.00 % \n",
      "\n",
      "32.0 value of historical_existing_cnt's target ratio : 3 / 7 = 42.86 % \n",
      "\n",
      "53.0 value of historical_existing_cnt's target ratio : 13 / 70 = 18.57 % \n",
      "\n",
      "38.0 value of historical_existing_cnt's target ratio : 5 / 20 = 25.00 % \n",
      "\n",
      "189.0 value of historical_existing_cnt's target ratio : 0 / 1 = 0.00 % \n",
      "\n",
      "58.0 value of historical_existing_cnt's target ratio : 1 / 16 = 6.25 % \n",
      "\n",
      "27.0 value of historical_existing_cnt's target ratio : 1 / 15 = 6.67 % \n",
      "\n",
      "106.0 value of historical_existing_cnt's target ratio : 0 / 8 = 0.00 % \n",
      "\n",
      "168.0 value of historical_existing_cnt's target ratio : 0 / 1 = 0.00 % \n",
      "\n",
      "9.0 value of historical_existing_cnt's target ratio : 7 / 44 = 15.91 % \n",
      "\n",
      "46.0 value of historical_existing_cnt's target ratio : 1 / 8 = 12.50 % \n",
      "\n",
      "48.0 value of historical_existing_cnt's target ratio : 0 / 21 = 0.00 % \n",
      "\n",
      "52.0 value of historical_existing_cnt's target ratio : 1 / 23 = 4.35 % \n",
      "\n",
      "73.0 value of historical_existing_cnt's target ratio : 0 / 5 = 0.00 % \n",
      "\n",
      "92.0 value of historical_existing_cnt's target ratio : 0 / 2 = 0.00 % \n",
      "\n",
      "60.0 value of historical_existing_cnt's target ratio : 0 / 2 = 0.00 % \n",
      "\n",
      "39.0 value of historical_existing_cnt's target ratio : 0 / 3 = 0.00 % \n",
      "\n",
      "18.0 value of historical_existing_cnt's target ratio : 1 / 9 = 11.11 % \n",
      "\n",
      "14.0 value of historical_existing_cnt's target ratio : 0 / 30 = 0.00 % \n",
      "\n",
      "212.0 value of historical_existing_cnt's target ratio : 0 / 1 = 0.00 % \n",
      "\n",
      "472.0 value of historical_existing_cnt's target ratio : 0 / 2 = 0.00 % \n",
      "\n",
      "390.0 value of historical_existing_cnt's target ratio : 0 / 1 = 0.00 % \n",
      "\n",
      "69.0 value of historical_existing_cnt's target ratio : 0 / 1 = 0.00 % \n",
      "\n",
      "233.0 value of historical_existing_cnt's target ratio : 18 / 0, only True \n",
      "\n",
      "29.0 value of historical_existing_cnt's target ratio : 0 / 11 = 0.00 % \n",
      "\n",
      "30.0 value of historical_existing_cnt's target ratio : 1 / 10 = 10.00 % \n",
      "\n",
      "24.0 value of historical_existing_cnt's target ratio : 4 / 10 = 40.00 % \n",
      "\n",
      "78.0 value of historical_existing_cnt's target ratio : 1 / 6 = 16.67 % \n",
      "\n",
      "107.0 value of historical_existing_cnt's target ratio : 0 / 4 = 0.00 % \n",
      "\n",
      "41.0 value of historical_existing_cnt's target ratio : 0 / 22 = 0.00 % \n",
      "\n",
      "166.0 value of historical_existing_cnt's target ratio : 0 / 3 = 0.00 % \n",
      "\n",
      "59.0 value of historical_existing_cnt's target ratio : 2 / 4 = 50.00 % \n",
      "\n",
      "44.0 value of historical_existing_cnt's target ratio : 1 / 7 = 14.29 % \n",
      "\n",
      "114.0 value of historical_existing_cnt's target ratio : 0 / 5 = 0.00 % \n",
      "\n",
      "37.0 value of historical_existing_cnt's target ratio : 0 / 13 = 0.00 % \n",
      "\n",
      "35.0 value of historical_existing_cnt's target ratio : 2 / 2 = 100.00 % \n",
      "\n",
      "158.0 value of historical_existing_cnt's target ratio : 0 / 1 = 0.00 % \n",
      "\n",
      "85.0 value of historical_existing_cnt's target ratio : 0 / 3 = 0.00 % \n",
      "\n",
      "77.0 value of historical_existing_cnt's target ratio : 0 / 2 = 0.00 % \n",
      "\n",
      "26.0 value of historical_existing_cnt's target ratio : 1 / 7 = 14.29 % \n",
      "\n",
      "55.0 value of historical_existing_cnt's target ratio : 1 / 5 = 20.00 % \n",
      "\n",
      "74.0 value of historical_existing_cnt's target ratio : 0 / 1 = 0.00 % \n",
      "\n",
      "162.0 value of historical_existing_cnt's target ratio : 0 / 1 = 0.00 % \n",
      "\n",
      "25.0 value of historical_existing_cnt's target ratio : 0 / 6 = 0.00 % \n",
      "\n",
      "129.0 value of historical_existing_cnt's target ratio : 0 / 3 = 0.00 % \n",
      "\n",
      "109.0 value of historical_existing_cnt's target ratio : 0 / 2 = 0.00 % \n",
      "\n",
      "89.0 value of historical_existing_cnt's target ratio : 0 / 3 = 0.00 % \n",
      "\n",
      "105.0 value of historical_existing_cnt's target ratio : 1 / 307 = 0.33 % \n",
      "\n",
      "103.0 value of historical_existing_cnt's target ratio : 0 / 63 = 0.00 % \n",
      "\n",
      "104.0 value of historical_existing_cnt's target ratio : 0 / 24 = 0.00 % \n",
      "\n",
      "95.0 value of historical_existing_cnt's target ratio : 1 / 2 = 50.00 % \n",
      "\n",
      "153.0 value of historical_existing_cnt's target ratio : 0 / 3 = 0.00 % \n",
      "\n",
      "110.0 value of historical_existing_cnt's target ratio : 0 / 2 = 0.00 % \n",
      "\n",
      "113.0 value of historical_existing_cnt's target ratio : 0 / 6 = 0.00 % \n",
      "\n",
      "102.0 value of historical_existing_cnt's target ratio : 0 / 2 = 0.00 % \n",
      "\n",
      "87.0 value of historical_existing_cnt's target ratio : 0 / 3 = 0.00 % \n",
      "\n",
      "271.0 value of historical_existing_cnt's target ratio : 0 / 8 = 0.00 % \n",
      "\n",
      "406.0 value of historical_existing_cnt's target ratio : 0 / 2 = 0.00 % \n",
      "\n",
      "76.0 value of historical_existing_cnt's target ratio : 0 / 3 = 0.00 % \n",
      "\n",
      "50.0 value of historical_existing_cnt's target ratio : 1 / 2 = 50.00 % \n",
      "\n",
      "51.0 value of historical_existing_cnt's target ratio : 0 / 8 = 0.00 % \n",
      "\n",
      "62.0 value of historical_existing_cnt's target ratio : 1 / 6 = 16.67 % \n",
      "\n",
      "838.0 value of historical_existing_cnt's target ratio : 3 / 0, only True \n",
      "\n",
      "199.0 value of historical_existing_cnt's target ratio : 0 / 1 = 0.00 % \n",
      "\n",
      "1394.0 value of historical_existing_cnt's target ratio : 0 / 1 = 0.00 % \n",
      "\n",
      "145.0 value of historical_existing_cnt's target ratio : 0 / 1 = 0.00 % \n",
      "\n",
      "63.0 value of historical_existing_cnt's target ratio : 0 / 3 = 0.00 % \n",
      "\n",
      "404.0 value of historical_existing_cnt's target ratio : 0 / 1 = 0.00 % \n",
      "\n",
      "34.0 value of historical_existing_cnt's target ratio : 0 / 2 = 0.00 % \n",
      "\n",
      "84.0 value of historical_existing_cnt's target ratio : 0 / 1 = 0.00 % \n",
      "\n",
      "67.0 value of historical_existing_cnt's target ratio : 0 / 4 = 0.00 % \n",
      "\n",
      "123.0 value of historical_existing_cnt's target ratio : 0 / 2 = 0.00 % \n",
      "\n",
      "43.0 value of historical_existing_cnt's target ratio : 1 / 0, only True \n",
      "\n",
      "33.0 value of historical_existing_cnt's target ratio : 1 / 0, only True \n",
      "\n",
      "97.0 value of historical_existing_cnt's target ratio : 0 / 1 = 0.00 % \n",
      "\n",
      "900.0 value of historical_existing_cnt's target ratio : 0 / 4 = 0.00 % \n",
      "\n",
      "192.0 value of historical_existing_cnt's target ratio : 0 / 2 = 0.00 % \n",
      "\n",
      "131.0 value of historical_existing_cnt's target ratio : 0 / 2 = 0.00 % \n",
      "\n",
      "88.0 value of historical_existing_cnt's target ratio : 1 / 6 = 16.67 % \n",
      "\n",
      "174.0 value of historical_existing_cnt's target ratio : 0 / 2 = 0.00 % \n",
      "\n",
      "1104.0 value of historical_existing_cnt's target ratio : 0 / 1 = 0.00 % \n",
      "\n",
      "64.0 value of historical_existing_cnt's target ratio : 0 / 3 = 0.00 % \n",
      "\n",
      "54.0 value of historical_existing_cnt's target ratio : 0 / 1 = 0.00 % \n",
      "\n",
      "81.0 value of historical_existing_cnt's target ratio : 0 / 2 = 0.00 % \n",
      "\n",
      "71.0 value of historical_existing_cnt's target ratio : 0 / 2 = 0.00 % \n",
      "\n",
      "130.0 value of historical_existing_cnt's target ratio : 0 / 3 = 0.00 % \n",
      "\n",
      "72.0 value of historical_existing_cnt's target ratio : 0 / 1 = 0.00 % \n",
      "\n",
      "154.0 value of historical_existing_cnt's target ratio : 0 / 3 = 0.00 % \n",
      "\n",
      "117.0 value of historical_existing_cnt's target ratio : 0 / 3 = 0.00 % \n",
      "\n",
      "136.0 value of historical_existing_cnt's target ratio : 0 / 1 = 0.00 % \n",
      "\n",
      "304.0 value of historical_existing_cnt's target ratio : 0 / 2 = 0.00 % \n",
      "\n",
      "167.0 value of historical_existing_cnt's target ratio : 0 / 1 = 0.00 % \n",
      "\n",
      "138.0 value of historical_existing_cnt's target ratio : 1 / 0, only True \n",
      "\n",
      "108.0 value of historical_existing_cnt's target ratio : 0 / 1 = 0.00 % \n",
      "\n"
     ]
    }
   ],
   "source": [
    "column = 'historical_existing_cnt'\n",
    "\n",
    "print(df_train[column].value_counts(), \"\\n\" )\n",
    "\n",
    "for nums in df_train[column].unique():\n",
    "    target_ratio(column, nums)"
   ]
  },
  {
   "cell_type": "markdown",
   "metadata": {},
   "source": [
    "### Column : id_strategic_ver"
   ]
  },
  {
   "cell_type": "code",
   "execution_count": 66,
   "metadata": {},
   "outputs": [
    {
     "data": {
      "text/plain": [
       "id_strategic_ver\n",
       "1.0    3444\n",
       "Name: count, dtype: int64"
      ]
     },
     "execution_count": 66,
     "metadata": {},
     "output_type": "execute_result"
    }
   ],
   "source": [
    "# only 1 value others are null\n",
    "# impute null to 0\n",
    "\n",
    "df_train['id_strategic_ver'].value_counts()\n",
    "# df_train['id_strategic_ver'].fillna(0, inplace=True)"
   ]
  },
  {
   "cell_type": "markdown",
   "metadata": {},
   "source": [
    "### Column : it_strategic_ver"
   ]
  },
  {
   "cell_type": "code",
   "execution_count": null,
   "metadata": {},
   "outputs": [],
   "source": [
    "# only 1 value others are null\n",
    "# impute null to 0\n",
    "\n",
    "df_train['it_strategic_ver'].value_counts()\n",
    "# df_train['it_strategic_ver'].fillna(0, inplace=True)"
   ]
  },
  {
   "cell_type": "markdown",
   "metadata": {},
   "source": [
    "### Column : idit_strategic_ver"
   ]
  },
  {
   "cell_type": "code",
   "execution_count": null,
   "metadata": {},
   "outputs": [],
   "source": [
    "# only 1 value others are null\n",
    "# impute null to 0\n",
    "\n",
    "df_train['idit_strategic_ver'].value_counts()\n",
    "# df_train['idit_strategic_ver'].fillna(0, inplace=True)"
   ]
  },
  {
   "cell_type": "markdown",
   "metadata": {},
   "source": [
    "### Column : customer_job"
   ]
  },
  {
   "cell_type": "code",
   "execution_count": null,
   "metadata": {},
   "outputs": [],
   "source": []
  },
  {
   "cell_type": "markdown",
   "metadata": {},
   "source": [
    "### Column : lead_desc_length"
   ]
  },
  {
   "cell_type": "markdown",
   "metadata": {},
   "source": []
  },
  {
   "cell_type": "markdown",
   "metadata": {},
   "source": [
    "### Column : inquiry_type"
   ]
  },
  {
   "cell_type": "markdown",
   "metadata": {},
   "source": []
  },
  {
   "cell_type": "markdown",
   "metadata": {},
   "source": [
    "### Column : product_category"
   ]
  },
  {
   "cell_type": "markdown",
   "metadata": {},
   "source": []
  },
  {
   "cell_type": "markdown",
   "metadata": {},
   "source": [
    "### Column : product_subcategory"
   ]
  },
  {
   "cell_type": "markdown",
   "metadata": {},
   "source": []
  },
  {
   "cell_type": "markdown",
   "metadata": {},
   "source": [
    "### Column : product_modelname"
   ]
  },
  {
   "cell_type": "markdown",
   "metadata": {},
   "source": []
  },
  {
   "cell_type": "markdown",
   "metadata": {},
   "source": [
    "### Column : customer_country.1"
   ]
  },
  {
   "cell_type": "markdown",
   "metadata": {},
   "source": []
  },
  {
   "cell_type": "markdown",
   "metadata": {},
   "source": [
    "### Column : customer_position"
   ]
  },
  {
   "cell_type": "markdown",
   "metadata": {},
   "source": []
  },
  {
   "cell_type": "markdown",
   "metadata": {},
   "source": [
    "### Column : reponse_corporate"
   ]
  },
  {
   "cell_type": "markdown",
   "metadata": {},
   "source": []
  },
  {
   "cell_type": "markdown",
   "metadata": {},
   "source": [
    "### Column : expected_timeline"
   ]
  },
  {
   "cell_type": "markdown",
   "metadata": {},
   "source": []
  },
  {
   "cell_type": "markdown",
   "metadata": {},
   "source": [
    "### Column : vers_cus"
   ]
  },
  {
   "cell_type": "markdown",
   "metadata": {},
   "source": []
  },
  {
   "cell_type": "markdown",
   "metadata": {},
   "source": [
    "### Column : vers_pro"
   ]
  },
  {
   "cell_type": "markdown",
   "metadata": {},
   "source": []
  },
  {
   "cell_type": "markdown",
   "metadata": {},
   "source": [
    "### Column : ver_win_rate_x"
   ]
  },
  {
   "cell_type": "markdown",
   "metadata": {},
   "source": []
  },
  {
   "cell_type": "markdown",
   "metadata": {},
   "source": [
    "### Column : ver_win_ratio_per_bu"
   ]
  },
  {
   "cell_type": "markdown",
   "metadata": {},
   "source": []
  },
  {
   "cell_type": "markdown",
   "metadata": {},
   "source": [
    "### Column : business_area"
   ]
  },
  {
   "cell_type": "markdown",
   "metadata": {},
   "source": []
  },
  {
   "cell_type": "markdown",
   "metadata": {},
   "source": [
    "### Column : business_subarea"
   ]
  },
  {
   "cell_type": "markdown",
   "metadata": {},
   "source": []
  },
  {
   "cell_type": "markdown",
   "metadata": {},
   "source": [
    "### Column : lead_owner"
   ]
  },
  {
   "cell_type": "markdown",
   "metadata": {},
   "source": []
  },
  {
   "cell_type": "markdown",
   "metadata": {},
   "source": [
    "### Column : is_converted"
   ]
  },
  {
   "cell_type": "markdown",
   "metadata": {},
   "source": []
  }
 ],
 "metadata": {
  "kernelspec": {
   "display_name": "Python 3",
   "language": "python",
   "name": "python3"
  },
  "language_info": {
   "codemirror_mode": {
    "name": "ipython",
    "version": 3
   },
   "file_extension": ".py",
   "mimetype": "text/x-python",
   "name": "python",
   "nbconvert_exporter": "python",
   "pygments_lexer": "ipython3",
   "version": "3.10.10"
  }
 },
 "nbformat": 4,
 "nbformat_minor": 2
}
