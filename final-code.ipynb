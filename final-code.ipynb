{
 "cells": [
  {
   "cell_type": "markdown",
   "id": "017e9265",
   "metadata": {},
   "source": [
    "# 영업 성공 여부 분류 경진대회"
   ]
  },
  {
   "cell_type": "markdown",
   "id": "acdab431",
   "metadata": {},
   "source": [
    "## 1. 데이터 확인"
   ]
  },
  {
   "cell_type": "markdown",
   "id": "2b8341e8",
   "metadata": {},
   "source": [
    "### 필수 라이브러리"
   ]
  },
  {
   "cell_type": "code",
   "execution_count": 1,
   "id": "3790c128",
   "metadata": {},
   "outputs": [
    {
     "name": "stdout",
     "output_type": "stream",
     "text": [
      "Collecting catboost\n",
      "  Downloading catboost-1.2.3-cp310-cp310-macosx_11_0_universal2.whl (26.2 MB)\n",
      "\u001b[2K     \u001b[38;2;114;156;31m━━━━━━━━━━━━━━━━━━━━━━━━━━━━━━━━━━━━━━━━\u001b[0m \u001b[32m26.2/26.2 MB\u001b[0m \u001b[31m6.3 MB/s\u001b[0m eta \u001b[36m0:00:00\u001b[0mm eta \u001b[36m0:00:01\u001b[0m[36m0:00:01\u001b[0mm\n",
      "\u001b[?25hRequirement already satisfied: numpy>=1.16.0 in /opt/homebrew/Caskroom/miniconda/base/lib/python3.10/site-packages (from catboost) (1.26.4)\n",
      "Requirement already satisfied: pandas>=0.24 in /opt/homebrew/Caskroom/miniconda/base/lib/python3.10/site-packages (from catboost) (2.2.0)\n",
      "Requirement already satisfied: matplotlib in /opt/homebrew/Caskroom/miniconda/base/lib/python3.10/site-packages (from catboost) (3.8.2)\n",
      "Collecting plotly\n",
      "  Downloading plotly-5.19.0-py3-none-any.whl (15.7 MB)\n",
      "\u001b[2K     \u001b[38;2;114;156;31m━━━━━━━━━━━━━━━━━━━━━━━━━━━━━━━━━━━━━━━━\u001b[0m \u001b[32m15.7/15.7 MB\u001b[0m \u001b[31m11.3 MB/s\u001b[0m eta \u001b[36m0:00:00\u001b[0mm eta \u001b[36m0:00:01\u001b[0m[36m0:00:01\u001b[0m\n",
      "\u001b[?25hRequirement already satisfied: six in /opt/homebrew/Caskroom/miniconda/base/lib/python3.10/site-packages (from catboost) (1.16.0)\n",
      "Requirement already satisfied: scipy in /opt/homebrew/Caskroom/miniconda/base/lib/python3.10/site-packages (from catboost) (1.12.0)\n",
      "Collecting graphviz\n",
      "  Using cached graphviz-0.20.1-py3-none-any.whl (47 kB)\n",
      "Requirement already satisfied: pytz>=2020.1 in /opt/homebrew/Caskroom/miniconda/base/lib/python3.10/site-packages (from pandas>=0.24->catboost) (2022.7)\n",
      "Requirement already satisfied: tzdata>=2022.7 in /opt/homebrew/Caskroom/miniconda/base/lib/python3.10/site-packages (from pandas>=0.24->catboost) (2024.1)\n",
      "Requirement already satisfied: python-dateutil>=2.8.2 in /opt/homebrew/Caskroom/miniconda/base/lib/python3.10/site-packages (from pandas>=0.24->catboost) (2.8.2)\n",
      "Requirement already satisfied: pillow>=8 in /opt/homebrew/Caskroom/miniconda/base/lib/python3.10/site-packages (from matplotlib->catboost) (10.2.0)\n",
      "Requirement already satisfied: packaging>=20.0 in /opt/homebrew/Caskroom/miniconda/base/lib/python3.10/site-packages (from matplotlib->catboost) (23.0)\n",
      "Requirement already satisfied: fonttools>=4.22.0 in /opt/homebrew/Caskroom/miniconda/base/lib/python3.10/site-packages (from matplotlib->catboost) (4.48.1)\n",
      "Requirement already satisfied: pyparsing>=2.3.1 in /opt/homebrew/Caskroom/miniconda/base/lib/python3.10/site-packages (from matplotlib->catboost) (3.1.1)\n",
      "Requirement already satisfied: contourpy>=1.0.1 in /opt/homebrew/Caskroom/miniconda/base/lib/python3.10/site-packages (from matplotlib->catboost) (1.2.0)\n",
      "Requirement already satisfied: cycler>=0.10 in /opt/homebrew/Caskroom/miniconda/base/lib/python3.10/site-packages (from matplotlib->catboost) (0.12.1)\n",
      "Requirement already satisfied: kiwisolver>=1.3.1 in /opt/homebrew/Caskroom/miniconda/base/lib/python3.10/site-packages (from matplotlib->catboost) (1.4.5)\n",
      "Collecting tenacity>=6.2.0\n",
      "  Downloading tenacity-8.2.3-py3-none-any.whl (24 kB)\n",
      "Installing collected packages: tenacity, graphviz, plotly, catboost\n",
      "Successfully installed catboost-1.2.3 graphviz-0.20.1 plotly-5.19.0 tenacity-8.2.3\n"
     ]
    }
   ],
   "source": [
    "!pip install catboost"
   ]
  },
  {
   "cell_type": "code",
   "execution_count": 55,
   "id": "a315cc58",
   "metadata": {},
   "outputs": [],
   "source": [
    "import pandas as pd\n",
    "import numpy as np\n",
    "from sklearn.metrics import (\n",
    "    accuracy_score,\n",
    "    confusion_matrix,\n",
    "    f1_score,\n",
    "    precision_score,\n",
    "    recall_score,\n",
    ")\n",
    "from sklearn.model_selection import train_test_split\n",
    "from catboost import CatBoostClassifier\n",
    "\n",
    "from sklearn.preprocessing import StandardScaler, MinMaxScaler"
   ]
  },
  {
   "cell_type": "markdown",
   "id": "412f98cc",
   "metadata": {},
   "source": [
    "### 데이터 셋 읽어오기"
   ]
  },
  {
   "cell_type": "code",
   "execution_count": 56,
   "id": "7ada941e",
   "metadata": {},
   "outputs": [],
   "source": [
    "df_train = pd.read_csv(\"train.csv\") \n",
    "df_test = pd.read_csv(\"submission.csv\") "
   ]
  },
  {
   "cell_type": "code",
   "execution_count": 57,
   "id": "be9af12a",
   "metadata": {},
   "outputs": [
    {
     "data": {
      "text/html": [
       "<div>\n",
       "<style scoped>\n",
       "    .dataframe tbody tr th:only-of-type {\n",
       "        vertical-align: middle;\n",
       "    }\n",
       "\n",
       "    .dataframe tbody tr th {\n",
       "        vertical-align: top;\n",
       "    }\n",
       "\n",
       "    .dataframe thead th {\n",
       "        text-align: right;\n",
       "    }\n",
       "</style>\n",
       "<table border=\"1\" class=\"dataframe\">\n",
       "  <thead>\n",
       "    <tr style=\"text-align: right;\">\n",
       "      <th></th>\n",
       "      <th>bant_submit</th>\n",
       "      <th>customer_country</th>\n",
       "      <th>business_unit</th>\n",
       "      <th>com_reg_ver_win_rate</th>\n",
       "      <th>customer_idx</th>\n",
       "      <th>customer_type</th>\n",
       "      <th>enterprise</th>\n",
       "      <th>historical_existing_cnt</th>\n",
       "      <th>id_strategic_ver</th>\n",
       "      <th>it_strategic_ver</th>\n",
       "      <th>...</th>\n",
       "      <th>response_corporate</th>\n",
       "      <th>expected_timeline</th>\n",
       "      <th>ver_cus</th>\n",
       "      <th>ver_pro</th>\n",
       "      <th>ver_win_rate_x</th>\n",
       "      <th>ver_win_ratio_per_bu</th>\n",
       "      <th>business_area</th>\n",
       "      <th>business_subarea</th>\n",
       "      <th>lead_owner</th>\n",
       "      <th>is_converted</th>\n",
       "    </tr>\n",
       "  </thead>\n",
       "  <tbody>\n",
       "    <tr>\n",
       "      <th>42849</th>\n",
       "      <td>0.25</td>\n",
       "      <td>Keangnam Landmark 72  //Vietnam</td>\n",
       "      <td>AS</td>\n",
       "      <td>NaN</td>\n",
       "      <td>47466</td>\n",
       "      <td>NaN</td>\n",
       "      <td>Enterprise</td>\n",
       "      <td>115.0</td>\n",
       "      <td>NaN</td>\n",
       "      <td>NaN</td>\n",
       "      <td>...</td>\n",
       "      <td>LGEVH</td>\n",
       "      <td>NaN</td>\n",
       "      <td>0</td>\n",
       "      <td>0</td>\n",
       "      <td>NaN</td>\n",
       "      <td>NaN</td>\n",
       "      <td>NaN</td>\n",
       "      <td>NaN</td>\n",
       "      <td>643</td>\n",
       "      <td>False</td>\n",
       "    </tr>\n",
       "    <tr>\n",
       "      <th>7193</th>\n",
       "      <td>1.00</td>\n",
       "      <td>/Sri Ganganagar/India</td>\n",
       "      <td>ID</td>\n",
       "      <td>NaN</td>\n",
       "      <td>47466</td>\n",
       "      <td>NaN</td>\n",
       "      <td>Enterprise</td>\n",
       "      <td>4.0</td>\n",
       "      <td>NaN</td>\n",
       "      <td>NaN</td>\n",
       "      <td>...</td>\n",
       "      <td>LGEIL</td>\n",
       "      <td>less than 3 months</td>\n",
       "      <td>0</td>\n",
       "      <td>0</td>\n",
       "      <td>NaN</td>\n",
       "      <td>NaN</td>\n",
       "      <td>NaN</td>\n",
       "      <td>NaN</td>\n",
       "      <td>175</td>\n",
       "      <td>False</td>\n",
       "    </tr>\n",
       "    <tr>\n",
       "      <th>38678</th>\n",
       "      <td>0.50</td>\n",
       "      <td>/São Paulo/Brazil</td>\n",
       "      <td>AS</td>\n",
       "      <td>NaN</td>\n",
       "      <td>24069</td>\n",
       "      <td>NaN</td>\n",
       "      <td>Enterprise</td>\n",
       "      <td>NaN</td>\n",
       "      <td>NaN</td>\n",
       "      <td>NaN</td>\n",
       "      <td>...</td>\n",
       "      <td>LGESP</td>\n",
       "      <td>NaN</td>\n",
       "      <td>0</td>\n",
       "      <td>0</td>\n",
       "      <td>NaN</td>\n",
       "      <td>NaN</td>\n",
       "      <td>NaN</td>\n",
       "      <td>NaN</td>\n",
       "      <td>23</td>\n",
       "      <td>False</td>\n",
       "    </tr>\n",
       "    <tr>\n",
       "      <th>49788</th>\n",
       "      <td>0.50</td>\n",
       "      <td>//Spain</td>\n",
       "      <td>IT</td>\n",
       "      <td>NaN</td>\n",
       "      <td>4475</td>\n",
       "      <td>NaN</td>\n",
       "      <td>SMB</td>\n",
       "      <td>NaN</td>\n",
       "      <td>NaN</td>\n",
       "      <td>NaN</td>\n",
       "      <td>...</td>\n",
       "      <td>LGEES</td>\n",
       "      <td>NaN</td>\n",
       "      <td>0</td>\n",
       "      <td>0</td>\n",
       "      <td>NaN</td>\n",
       "      <td>NaN</td>\n",
       "      <td>NaN</td>\n",
       "      <td>NaN</td>\n",
       "      <td>788</td>\n",
       "      <td>False</td>\n",
       "    </tr>\n",
       "    <tr>\n",
       "      <th>29693</th>\n",
       "      <td>0.50</td>\n",
       "      <td>/Rio branco/Brazil</td>\n",
       "      <td>AS</td>\n",
       "      <td>0.003937</td>\n",
       "      <td>19715</td>\n",
       "      <td>End-Customer</td>\n",
       "      <td>SMB</td>\n",
       "      <td>NaN</td>\n",
       "      <td>NaN</td>\n",
       "      <td>NaN</td>\n",
       "      <td>...</td>\n",
       "      <td>LGESP</td>\n",
       "      <td>NaN</td>\n",
       "      <td>1</td>\n",
       "      <td>0</td>\n",
       "      <td>0.003079</td>\n",
       "      <td>0.026846</td>\n",
       "      <td>corporate / office</td>\n",
       "      <td>NaN</td>\n",
       "      <td>680</td>\n",
       "      <td>False</td>\n",
       "    </tr>\n",
       "  </tbody>\n",
       "</table>\n",
       "<p>5 rows × 29 columns</p>\n",
       "</div>"
      ],
      "text/plain": [
       "       bant_submit                 customer_country business_unit  \\\n",
       "42849         0.25  Keangnam Landmark 72  //Vietnam            AS   \n",
       "7193          1.00            /Sri Ganganagar/India            ID   \n",
       "38678         0.50                /São Paulo/Brazil            AS   \n",
       "49788         0.50                          //Spain            IT   \n",
       "29693         0.50               /Rio branco/Brazil            AS   \n",
       "\n",
       "       com_reg_ver_win_rate  customer_idx customer_type  enterprise  \\\n",
       "42849                   NaN         47466           NaN  Enterprise   \n",
       "7193                    NaN         47466           NaN  Enterprise   \n",
       "38678                   NaN         24069           NaN  Enterprise   \n",
       "49788                   NaN          4475           NaN         SMB   \n",
       "29693              0.003937         19715  End-Customer         SMB   \n",
       "\n",
       "       historical_existing_cnt  id_strategic_ver  it_strategic_ver  ...  \\\n",
       "42849                    115.0               NaN               NaN  ...   \n",
       "7193                       4.0               NaN               NaN  ...   \n",
       "38678                      NaN               NaN               NaN  ...   \n",
       "49788                      NaN               NaN               NaN  ...   \n",
       "29693                      NaN               NaN               NaN  ...   \n",
       "\n",
       "       response_corporate   expected_timeline  ver_cus ver_pro ver_win_rate_x  \\\n",
       "42849               LGEVH                 NaN        0       0            NaN   \n",
       "7193                LGEIL  less than 3 months        0       0            NaN   \n",
       "38678               LGESP                 NaN        0       0            NaN   \n",
       "49788               LGEES                 NaN        0       0            NaN   \n",
       "29693               LGESP                 NaN        1       0       0.003079   \n",
       "\n",
       "      ver_win_ratio_per_bu       business_area business_subarea lead_owner  \\\n",
       "42849                  NaN                 NaN              NaN        643   \n",
       "7193                   NaN                 NaN              NaN        175   \n",
       "38678                  NaN                 NaN              NaN         23   \n",
       "49788                  NaN                 NaN              NaN        788   \n",
       "29693             0.026846  corporate / office              NaN        680   \n",
       "\n",
       "      is_converted  \n",
       "42849        False  \n",
       "7193         False  \n",
       "38678        False  \n",
       "49788        False  \n",
       "29693        False  \n",
       "\n",
       "[5 rows x 29 columns]"
      ]
     },
     "execution_count": 57,
     "metadata": {},
     "output_type": "execute_result"
    }
   ],
   "source": [
    "df_train.sample(5) # check train data"
   ]
  },
  {
   "cell_type": "code",
   "execution_count": 58,
   "id": "99761bd3",
   "metadata": {},
   "outputs": [
    {
     "data": {
      "text/html": [
       "<div>\n",
       "<style scoped>\n",
       "    .dataframe tbody tr th:only-of-type {\n",
       "        vertical-align: middle;\n",
       "    }\n",
       "\n",
       "    .dataframe tbody tr th {\n",
       "        vertical-align: top;\n",
       "    }\n",
       "\n",
       "    .dataframe thead th {\n",
       "        text-align: right;\n",
       "    }\n",
       "</style>\n",
       "<table border=\"1\" class=\"dataframe\">\n",
       "  <thead>\n",
       "    <tr style=\"text-align: right;\">\n",
       "      <th></th>\n",
       "      <th>id</th>\n",
       "      <th>bant_submit</th>\n",
       "      <th>customer_country</th>\n",
       "      <th>business_unit</th>\n",
       "      <th>com_reg_ver_win_rate</th>\n",
       "      <th>customer_idx</th>\n",
       "      <th>customer_type</th>\n",
       "      <th>enterprise</th>\n",
       "      <th>historical_existing_cnt</th>\n",
       "      <th>id_strategic_ver</th>\n",
       "      <th>...</th>\n",
       "      <th>response_corporate</th>\n",
       "      <th>expected_timeline</th>\n",
       "      <th>ver_cus</th>\n",
       "      <th>ver_pro</th>\n",
       "      <th>ver_win_rate_x</th>\n",
       "      <th>ver_win_ratio_per_bu</th>\n",
       "      <th>business_area</th>\n",
       "      <th>business_subarea</th>\n",
       "      <th>lead_owner</th>\n",
       "      <th>is_converted</th>\n",
       "    </tr>\n",
       "  </thead>\n",
       "  <tbody>\n",
       "    <tr>\n",
       "      <th>2059</th>\n",
       "      <td>13005</td>\n",
       "      <td>0.75</td>\n",
       "      <td>/ México / Mexico</td>\n",
       "      <td>AS</td>\n",
       "      <td>NaN</td>\n",
       "      <td>18453</td>\n",
       "      <td>Specifier/ Influencer</td>\n",
       "      <td>Enterprise</td>\n",
       "      <td>NaN</td>\n",
       "      <td>NaN</td>\n",
       "      <td>...</td>\n",
       "      <td>LGEMS</td>\n",
       "      <td>3 months ~ 6 months</td>\n",
       "      <td>0</td>\n",
       "      <td>0</td>\n",
       "      <td>NaN</td>\n",
       "      <td>NaN</td>\n",
       "      <td>NaN</td>\n",
       "      <td>NaN</td>\n",
       "      <td>42</td>\n",
       "      <td>False</td>\n",
       "    </tr>\n",
       "    <tr>\n",
       "      <th>4765</th>\n",
       "      <td>15881</td>\n",
       "      <td>0.50</td>\n",
       "      <td>/ caracas / Venezuela</td>\n",
       "      <td>AS</td>\n",
       "      <td>NaN</td>\n",
       "      <td>21440</td>\n",
       "      <td>End Customer</td>\n",
       "      <td>SMB</td>\n",
       "      <td>0.0</td>\n",
       "      <td>NaN</td>\n",
       "      <td>...</td>\n",
       "      <td>LGEPS</td>\n",
       "      <td>less than 3 months</td>\n",
       "      <td>0</td>\n",
       "      <td>0</td>\n",
       "      <td>NaN</td>\n",
       "      <td>NaN</td>\n",
       "      <td>NaN</td>\n",
       "      <td>NaN</td>\n",
       "      <td>654</td>\n",
       "      <td>False</td>\n",
       "    </tr>\n",
       "    <tr>\n",
       "      <th>2023</th>\n",
       "      <td>19819</td>\n",
       "      <td>0.00</td>\n",
       "      <td>/  / Brazil</td>\n",
       "      <td>ID</td>\n",
       "      <td>0.073248</td>\n",
       "      <td>45479</td>\n",
       "      <td>Channel Partner</td>\n",
       "      <td>SMB</td>\n",
       "      <td>143.0</td>\n",
       "      <td>NaN</td>\n",
       "      <td>...</td>\n",
       "      <td>LGESP</td>\n",
       "      <td>NaN</td>\n",
       "      <td>0</td>\n",
       "      <td>0</td>\n",
       "      <td>0.001183</td>\n",
       "      <td>0.049840</td>\n",
       "      <td>retail</td>\n",
       "      <td>Restaurant</td>\n",
       "      <td>317</td>\n",
       "      <td>True</td>\n",
       "    </tr>\n",
       "    <tr>\n",
       "      <th>807</th>\n",
       "      <td>12743</td>\n",
       "      <td>1.00</td>\n",
       "      <td>/ Gornji Milanovac / Serbia</td>\n",
       "      <td>AS</td>\n",
       "      <td>NaN</td>\n",
       "      <td>25211</td>\n",
       "      <td>End Customer</td>\n",
       "      <td>Enterprise</td>\n",
       "      <td>NaN</td>\n",
       "      <td>NaN</td>\n",
       "      <td>...</td>\n",
       "      <td>LGEMK</td>\n",
       "      <td>less than 3 months</td>\n",
       "      <td>0</td>\n",
       "      <td>0</td>\n",
       "      <td>NaN</td>\n",
       "      <td>NaN</td>\n",
       "      <td>NaN</td>\n",
       "      <td>NaN</td>\n",
       "      <td>766</td>\n",
       "      <td>False</td>\n",
       "    </tr>\n",
       "    <tr>\n",
       "      <th>2550</th>\n",
       "      <td>20973</td>\n",
       "      <td>0.00</td>\n",
       "      <td>/  / Spain</td>\n",
       "      <td>ID</td>\n",
       "      <td>0.025000</td>\n",
       "      <td>36246</td>\n",
       "      <td>End Customer</td>\n",
       "      <td>Enterprise</td>\n",
       "      <td>45.0</td>\n",
       "      <td>NaN</td>\n",
       "      <td>...</td>\n",
       "      <td>LGEES</td>\n",
       "      <td>NaN</td>\n",
       "      <td>0</td>\n",
       "      <td>0</td>\n",
       "      <td>0.000013</td>\n",
       "      <td>0.053571</td>\n",
       "      <td>transportation</td>\n",
       "      <td>Others</td>\n",
       "      <td>999</td>\n",
       "      <td>False</td>\n",
       "    </tr>\n",
       "  </tbody>\n",
       "</table>\n",
       "<p>5 rows × 30 columns</p>\n",
       "</div>"
      ],
      "text/plain": [
       "         id  bant_submit             customer_country business_unit  \\\n",
       "2059  13005         0.75            / México / Mexico            AS   \n",
       "4765  15881         0.50        / caracas / Venezuela            AS   \n",
       "2023  19819         0.00                  /  / Brazil            ID   \n",
       "807   12743         1.00  / Gornji Milanovac / Serbia            AS   \n",
       "2550  20973         0.00                   /  / Spain            ID   \n",
       "\n",
       "      com_reg_ver_win_rate  customer_idx          customer_type  enterprise  \\\n",
       "2059                   NaN         18453  Specifier/ Influencer  Enterprise   \n",
       "4765                   NaN         21440           End Customer         SMB   \n",
       "2023              0.073248         45479        Channel Partner         SMB   \n",
       "807                    NaN         25211           End Customer  Enterprise   \n",
       "2550              0.025000         36246           End Customer  Enterprise   \n",
       "\n",
       "      historical_existing_cnt  id_strategic_ver  ...  response_corporate  \\\n",
       "2059                      NaN               NaN  ...               LGEMS   \n",
       "4765                      0.0               NaN  ...               LGEPS   \n",
       "2023                    143.0               NaN  ...               LGESP   \n",
       "807                       NaN               NaN  ...               LGEMK   \n",
       "2550                     45.0               NaN  ...               LGEES   \n",
       "\n",
       "        expected_timeline ver_cus  ver_pro ver_win_rate_x  \\\n",
       "2059  3 months ~ 6 months       0        0            NaN   \n",
       "4765   less than 3 months       0        0            NaN   \n",
       "2023                  NaN       0        0       0.001183   \n",
       "807    less than 3 months       0        0            NaN   \n",
       "2550                  NaN       0        0       0.000013   \n",
       "\n",
       "     ver_win_ratio_per_bu   business_area business_subarea lead_owner  \\\n",
       "2059                  NaN             NaN              NaN         42   \n",
       "4765                  NaN             NaN              NaN        654   \n",
       "2023             0.049840          retail       Restaurant        317   \n",
       "807                   NaN             NaN              NaN        766   \n",
       "2550             0.053571  transportation           Others        999   \n",
       "\n",
       "     is_converted  \n",
       "2059        False  \n",
       "4765        False  \n",
       "2023         True  \n",
       "807         False  \n",
       "2550        False  \n",
       "\n",
       "[5 rows x 30 columns]"
      ]
     },
     "execution_count": 58,
     "metadata": {},
     "output_type": "execute_result"
    }
   ],
   "source": [
    "df_test.sample(5) # check test data"
   ]
  },
  {
   "cell_type": "markdown",
   "id": "af526c13",
   "metadata": {},
   "source": [
    "## 2. 데이터 전처리"
   ]
  },
  {
   "cell_type": "code",
   "execution_count": 59,
   "id": "d164b4e5",
   "metadata": {},
   "outputs": [],
   "source": [
    "\"\"\"\n",
    "제거할 column\n",
    "'customer_country',\n",
    "'customer_country.1'\n",
    "\"\"\"\n",
    "\n",
    "drop_columns = ['customer_country',\n",
    "                'customer_country.1']\n",
    "\n",
    "df_train.drop(drop_columns, axis=1, inplace=True)\n",
    "df_test.drop(drop_columns, axis=1, inplace=True)"
   ]
  },
  {
   "cell_type": "code",
   "execution_count": 60,
   "id": "e268f170",
   "metadata": {},
   "outputs": [
    {
     "name": "stdout",
     "output_type": "stream",
     "text": [
      "Index(['bant_submit', 'business_unit', 'customer_idx', 'customer_type',\n",
      "       'enterprise', 'id_strategic_ver', 'it_strategic_ver',\n",
      "       'idit_strategic_ver', 'customer_job', 'inquiry_type',\n",
      "       'product_category', 'product_subcategory', 'product_modelname',\n",
      "       'customer_position', 'response_corporate', 'expected_timeline',\n",
      "       'ver_cus', 'ver_pro', 'business_area', 'business_subarea', 'lead_owner',\n",
      "       'is_converted', 'scaled_com_reg_ver_win_rate',\n",
      "       'scaled_historical_existing_cnt', 'scaled_lead_desc_length',\n",
      "       'scaled_ver_win_rate_x', 'scaled_ver_win_ratio_per_bu'],\n",
      "      dtype='object')\n"
     ]
    }
   ],
   "source": [
    "\"\"\"\n",
    "Scaling for numeric columns\n",
    "\n",
    "standard scaling columns\n",
    "\"com_reg_ver_win_rate\", \"historical_existing_cnt\",\"lead_desc_length\"\n",
    "\n",
    "MinMax scaling columns\n",
    "\"ver_win_rate_x\", \"ver_win_ratio_per_bu\"\n",
    "\"\"\"\n",
    "\n",
    "st_columns = [\"com_reg_ver_win_rate\", \"historical_existing_cnt\",\"lead_desc_length\"]\n",
    "mm_columns = [\"ver_win_rate_x\", \"ver_win_ratio_per_bu\"]\n",
    "\n",
    "def scaling_data(columns : list,\n",
    "                 scaling : str):\n",
    "    if scaling == 'standard':\n",
    "        scaler = StandardScaler()\n",
    "    else:\n",
    "        scaler = MinMaxScaler()\n",
    "    for col in columns:\n",
    "        col_name = 'scaled_' + col\n",
    "        df_train[col_name] = scaler.fit_transform(df_train[[col]])\n",
    "        df_test[col_name] = scaler.transform(df_test[[col]])\n",
    "\n",
    "        df_train.drop(columns=[col], axis=1, inplace=True)\n",
    "        df_test.drop(columns=[col], axis=1, inplace=True)\n",
    "\n",
    "scaling_data(st_columns, 'standard')\n",
    "scaling_data(mm_columns, 'minmax')\n",
    "\n",
    "print(df_train.columns)"
   ]
  },
  {
   "cell_type": "code",
   "execution_count": 61,
   "id": "9c6a3921",
   "metadata": {},
   "outputs": [],
   "source": [
    "\"\"\"\n",
    "preprocessing 'business_area' column\n",
    "\"\"\"\n",
    "\n",
    "def preprocessing_business_area(df, val):\n",
    "    col_name = val + '_center'\n",
    "    df[col_name] = df['business_area'].apply(lambda x : 1 if val == x else 0)\n",
    "    \n",
    "for df in [df_train, df_test]:\n",
    "    for val in ['hospital & health care', 'power plant / renewable energy']:\n",
    "        preprocessing_business_area(df, val)\n",
    "\n",
    "df_train.drop(columns=['business_area'], axis=1, inplace=True)\n",
    "df_test.drop(columns=['business_area'], axis=1, inplace=True)"
   ]
  },
  {
   "cell_type": "code",
   "execution_count": 62,
   "id": "3d97ea6e",
   "metadata": {},
   "outputs": [],
   "source": [
    "\"\"\"\n",
    "preprocessing 'expected_timeline' column\n",
    "\"\"\"\n",
    "\n",
    "def preprocessing_exsiting_timeline(df, val):\n",
    "    col_name = 'is_' + val\n",
    "    df[col_name] = df['expected_timeline'].apply(lambda x : 1 if val in str(x).lower() else 0)\n",
    "\n",
    "vals = ['budget', 'etc', 'hence', 'system', \n",
    "        'closi', 'any', 'although', 'more',\n",
    "        'year']\n",
    "\n",
    "for df in [df_train, df_test]:\n",
    "    for val in vals:\n",
    "        preprocessing_exsiting_timeline(df, val)\n",
    "\n",
    "df_train.drop(columns=['expected_timeline'], axis=1, inplace=True)\n",
    "df_test.drop(columns=['expected_timeline'], axis=1, inplace=True)"
   ]
  },
  {
   "cell_type": "code",
   "execution_count": 63,
   "id": "db4eb1a8",
   "metadata": {},
   "outputs": [
    {
     "name": "stdout",
     "output_type": "stream",
     "text": [
      "(59299, 36)\n",
      "(5271, 37)\n"
     ]
    }
   ],
   "source": [
    "print(df_train.shape)\n",
    "print(df_test.shape)"
   ]
  },
  {
   "cell_type": "code",
   "execution_count": 64,
   "id": "fa2870b2",
   "metadata": {},
   "outputs": [],
   "source": [
    "\"\"\"\n",
    "inmpute for mode value\n",
    "\"\"\"\n",
    "\n",
    "train_mode = df_train.mode().iloc[0]\n",
    "df_train.fillna(train_mode, inplace=True)\n",
    "\n",
    "test_mode = df_test.mode().iloc[0]\n",
    "df_test.fillna(test_mode, inplace=True)"
   ]
  },
  {
   "cell_type": "code",
   "execution_count": 65,
   "id": "b0cca878",
   "metadata": {},
   "outputs": [],
   "source": [
    "\"\"\"\n",
    "numeric columns convert to category columns\n",
    "\"\"\"\n",
    "\n",
    "num_to_cat_columns = ['bant_submit',\n",
    "                      'scaled_com_reg_ver_win_rate',\n",
    "                      'scaled_historical_existing_cnt',\n",
    "                      'id_strategic_ver',\n",
    "                      'it_strategic_ver',\n",
    "                      'idit_strategic_ver',\n",
    "                      'scaled_lead_desc_length',\n",
    "                      'ver_cus',\n",
    "                      'ver_pro',\n",
    "                      'scaled_ver_win_rate_x',\n",
    "                      'scaled_ver_win_ratio_per_bu']\n",
    "\n",
    "for col in num_to_cat_columns:\n",
    "    df_train[col] = df_train[col].astype(str)\n",
    "    df_test[col] = df_test[col].astype(str)"
   ]
  },
  {
   "cell_type": "markdown",
   "id": "d332358a",
   "metadata": {},
   "source": [
    "### 2-2. 학습, 검증 데이터 분리"
   ]
  },
  {
   "cell_type": "code",
   "execution_count": 66,
   "id": "27c9e205",
   "metadata": {},
   "outputs": [
    {
     "data": {
      "text/plain": [
       "(47439, 35)"
      ]
     },
     "execution_count": 66,
     "metadata": {},
     "output_type": "execute_result"
    }
   ],
   "source": [
    "x_train, x_val, y_train, y_val = train_test_split(\n",
    "    df_train.drop(\"is_converted\", axis=1),\n",
    "    df_train[\"is_converted\"],\n",
    "    test_size=0.2,\n",
    "    shuffle=True,\n",
    "    random_state=400,\n",
    ")\n",
    "\n",
    "x_train.shape"
   ]
  },
  {
   "cell_type": "markdown",
   "id": "79ecfa9b",
   "metadata": {},
   "source": [
    "## 3. 모델 학습"
   ]
  },
  {
   "cell_type": "markdown",
   "id": "3caf257b",
   "metadata": {},
   "source": [
    "### 모델 정의 "
   ]
  },
  {
   "cell_type": "code",
   "execution_count": 67,
   "id": "e4509af0",
   "metadata": {},
   "outputs": [],
   "source": [
    "model = CatBoostClassifier(\n",
    "    verbose = 0,\n",
    "    iterations = 1000,\n",
    "    depth = 6,\n",
    "    learning_rate = 0.1,\n",
    "    loss_function = 'Logloss',\n",
    "    one_hot_max_size = 5,\n",
    "    cat_features = list(x_train.columns)\n",
    ")"
   ]
  },
  {
   "cell_type": "markdown",
   "id": "cacd5ed8",
   "metadata": {},
   "source": [
    "### 모델 학습"
   ]
  },
  {
   "cell_type": "code",
   "execution_count": 68,
   "id": "766d1980",
   "metadata": {},
   "outputs": [
    {
     "data": {
      "text/plain": [
       "<catboost.core.CatBoostClassifier at 0x147851510>"
      ]
     },
     "execution_count": 68,
     "metadata": {},
     "output_type": "execute_result"
    }
   ],
   "source": [
    "model.fit(x_train, y_train)"
   ]
  },
  {
   "cell_type": "markdown",
   "id": "6bf2de5f",
   "metadata": {},
   "source": [
    "### 모델 성능 보기"
   ]
  },
  {
   "cell_type": "code",
   "execution_count": 69,
   "id": "c8871444",
   "metadata": {},
   "outputs": [],
   "source": [
    "def get_clf_eval(y_test, y_pred=None):\n",
    "    confusion = confusion_matrix(y_test, y_pred, labels=[True, False])\n",
    "    accuracy = accuracy_score(y_test, y_pred)\n",
    "    precision = precision_score(y_test, y_pred, labels=[True, False])\n",
    "    recall = recall_score(y_test, y_pred)\n",
    "    F1 = f1_score(y_test, y_pred, labels=[True, False])\n",
    "\n",
    "    print(\"오차행렬:\\n\", confusion)\n",
    "    print(\"\\n정확도: {:.4f}\".format(accuracy))\n",
    "    print(\"정밀도: {:.4f}\".format(precision))\n",
    "    print(\"재현율: {:.4f}\".format(recall))\n",
    "    print(\"F1: {:.4f}\".format(F1))"
   ]
  },
  {
   "cell_type": "code",
   "execution_count": 70,
   "id": "56a86373",
   "metadata": {},
   "outputs": [
    {
     "name": "stdout",
     "output_type": "stream",
     "text": [
      "오차행렬:\n",
      " [[  752   195]\n",
      " [   63 10850]]\n",
      "\n",
      "정확도: 0.9782\n",
      "정밀도: 0.9227\n",
      "재현율: 0.7941\n",
      "F1: 0.8536\n"
     ]
    }
   ],
   "source": [
    "pred = model.predict(x_val)\n",
    "get_clf_eval(y_val, pred)"
   ]
  },
  {
   "cell_type": "markdown",
   "id": "7adf8300",
   "metadata": {},
   "source": [
    "## 4. 제출하기"
   ]
  },
  {
   "cell_type": "markdown",
   "id": "9d0b6e17",
   "metadata": {},
   "source": [
    "### 테스트 데이터 예측"
   ]
  },
  {
   "cell_type": "code",
   "execution_count": 71,
   "id": "43daa73c",
   "metadata": {},
   "outputs": [],
   "source": [
    "# split test for prediction\n",
    "x_test = df_test.drop([\"is_converted\", \"id\"], axis=1)"
   ]
  },
  {
   "cell_type": "code",
   "execution_count": 72,
   "id": "d13f7a6e",
   "metadata": {},
   "outputs": [
    {
     "data": {
      "text/plain": [
       "834"
      ]
     },
     "execution_count": 72,
     "metadata": {},
     "output_type": "execute_result"
    }
   ],
   "source": [
    "test_pred = model.predict(x_test)\n",
    "sum(test_pred) # numbers of True"
   ]
  },
  {
   "cell_type": "markdown",
   "id": "47f18e6a",
   "metadata": {},
   "source": [
    "### 제출 파일 작성"
   ]
  },
  {
   "cell_type": "code",
   "execution_count": 73,
   "id": "3128a458",
   "metadata": {},
   "outputs": [],
   "source": [
    "# load submission file\n",
    "df_sub = pd.read_csv(\"submission.csv\")\n",
    "df_sub[\"is_converted\"] = test_pred\n",
    "\n",
    "# save submission file\n",
    "df_sub.to_csv(\"submission.csv\", index=False)"
   ]
  },
  {
   "cell_type": "code",
   "execution_count": null,
   "id": "820fa966",
   "metadata": {},
   "outputs": [],
   "source": []
  }
 ],
 "metadata": {
  "kernelspec": {
   "display_name": "Python 3 (ipykernel)",
   "language": "python",
   "name": "python3"
  },
  "language_info": {
   "codemirror_mode": {
    "name": "ipython",
    "version": 3
   },
   "file_extension": ".py",
   "mimetype": "text/x-python",
   "name": "python",
   "nbconvert_exporter": "python",
   "pygments_lexer": "ipython3",
   "version": "3.10.10"
  }
 },
 "nbformat": 4,
 "nbformat_minor": 5
}
